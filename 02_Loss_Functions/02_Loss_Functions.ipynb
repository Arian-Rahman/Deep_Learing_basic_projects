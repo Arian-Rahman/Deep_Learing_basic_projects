{
 "cells": [
  {
   "cell_type": "code",
   "execution_count": 35,
   "metadata": {},
   "outputs": [],
   "source": [
    "import numpy as np\n",
    "\n",
    "y_true= np.array([1,0,11,21,34])\n",
    "y_pred = np.array([1,0.2,21,22,30])"
   ]
  },
  {
   "cell_type": "code",
   "execution_count": 36,
   "metadata": {},
   "outputs": [
    {
     "name": "stdout",
     "output_type": "stream",
     "text": [
      "total error:  15.2\n",
      "mae:  3.04\n"
     ]
    }
   ],
   "source": [
    "#Mean Absolute Error\n",
    "\n",
    "def mae(y_true,y_pred):\n",
    "    total_error = 0\n",
    "    for yt,yp in zip(y_true,y_pred):\n",
    "        total_error += abs(yt-yp)\n",
    "    mae= total_error/ len(y_true)\n",
    "    \n",
    "    print(\"total error: \", total_error)\n",
    "    print(\"mae: \",mae)\n",
    "\n",
    "    \n",
    "    \n",
    "mae(y_true,y_pred)"
   ]
  },
  {
   "cell_type": "code",
   "execution_count": 37,
   "metadata": {},
   "outputs": [
    {
     "name": "stdout",
     "output_type": "stream",
     "text": [
      "Absolute error :  [ 0.   0.2 10.   1.   4. ]\n",
      "Total error :  3.04\n",
      "Mean Absolute error :  3.04\n"
     ]
    }
   ],
   "source": [
    "#using np\n",
    "\n",
    "print(\"Absolute error : \", np.abs(y_true - y_pred))\n",
    "print(\"Total error : \", np.sum(np.mean(np.abs(y_true - y_pred))))\n",
    "print(\"Mean Absolute error : \", np.mean(np.abs(y_true - y_pred)))\n"
   ]
  },
  {
   "cell_type": "code",
   "execution_count": 68,
   "metadata": {},
   "outputs": [
    {
     "name": "stdout",
     "output_type": "stream",
     "text": [
      "[1, 1e-15, 1, 1, 1e-15]\n",
      "[0.999999999999999, 1e-15, 0.999999999999999, 0.999999999999999, 1e-15]\n"
     ]
    }
   ],
   "source": [
    "#Bianry Crossentropy\n",
    "\n",
    "y_pred = np.array([1,0,1,1,0])\n",
    "\n",
    "epsilon= 1e-15 # since log(0)= undefined\n",
    "\n",
    "y_pred_new= [max(i,epsilon) for i in y_pred]\n",
    " \n",
    "print(y_pred_new)\n",
    "\n",
    "y_pred_new= [min(i,1-epsilon) for i in y_pred_new]\n",
    "\n",
    "print((y_pred_new))\n"
   ]
  },
  {
   "cell_type": "code",
   "execution_count": 73,
   "metadata": {},
   "outputs": [
    {
     "data": {
      "text/plain": [
       "array([-9.99200722e-16, -3.45387764e+01, -9.99200722e-16, -9.99200722e-16,\n",
       "       -3.45387764e+01])"
      ]
     },
     "execution_count": 73,
     "metadata": {},
     "output_type": "execute_result"
    }
   ],
   "source": [
    "np.log(y_pred_new)"
   ]
  },
  {
   "cell_type": "code",
   "execution_count": 77,
   "metadata": {},
   "outputs": [
    {
     "data": {
      "text/plain": [
       "27.626223531347385"
      ]
     },
     "execution_count": 77,
     "metadata": {},
     "output_type": "execute_result"
    }
   ],
   "source": [
    "#Log loss\n",
    "\n",
    "y_pred_new = np.array(y_pred_new) #has to be array\n",
    "\n",
    "\n",
    "-np.mean(y_true* np.log(y_pred_new)+(1-y_true)* np.log(1-y_pred_new))\n"
   ]
  },
  {
   "cell_type": "code",
   "execution_count": 89,
   "metadata": {},
   "outputs": [],
   "source": [
    "def log_loss(y_true,y_pred):\n",
    "    epsilon= 1e-15\n",
    "    y_pred_new= [max(i,epsilon) for i in y_pred]\n",
    "    y_pred_new= [min(i,1-epsilon) for i in y_pred_new]\n",
    "    y_pred_new = np.array(y_pred_new)\n",
    "    print(-np.mean(y_true* np.log(y_pred_new)+(1-y_true)* np.log(1-y_pred_new)))\n",
    "\n"
   ]
  },
  {
   "cell_type": "code",
   "execution_count": 90,
   "metadata": {},
   "outputs": [
    {
     "name": "stdout",
     "output_type": "stream",
     "text": [
      "27.626223531347385\n"
     ]
    }
   ],
   "source": [
    "log_loss(y_true,y_pred)"
   ]
  },
  {
   "cell_type": "code",
   "execution_count": null,
   "metadata": {},
   "outputs": [],
   "source": []
  }
 ],
 "metadata": {
  "kernelspec": {
   "display_name": "Python 3",
   "language": "python",
   "name": "python3"
  },
  "language_info": {
   "codemirror_mode": {
    "name": "ipython",
    "version": 3
   },
   "file_extension": ".py",
   "mimetype": "text/x-python",
   "name": "python",
   "nbconvert_exporter": "python",
   "pygments_lexer": "ipython3",
   "version": "3.8.3"
  }
 },
 "nbformat": 4,
 "nbformat_minor": 4
}
