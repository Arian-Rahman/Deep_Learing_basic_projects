{
 "cells": [
  {
   "cell_type": "markdown",
   "metadata": {},
   "source": [
    "**Explore this notebook for similar EDA**\n",
    "\n",
    "https://www.kaggle.com/kmalit/bank-customer-churn-prediction\n"
   ]
  },
  {
   "cell_type": "code",
   "execution_count": 1,
   "metadata": {},
   "outputs": [],
   "source": [
    "import numpy as np\n",
    "import pandas as pd\n",
    "from matplotlib import pyplot as plt\n",
    "%matplotlib inline"
   ]
  },
  {
   "cell_type": "code",
   "execution_count": 2,
   "metadata": {},
   "outputs": [
    {
     "data": {
      "text/html": [
       "<div>\n",
       "<style scoped>\n",
       "    .dataframe tbody tr th:only-of-type {\n",
       "        vertical-align: middle;\n",
       "    }\n",
       "\n",
       "    .dataframe tbody tr th {\n",
       "        vertical-align: top;\n",
       "    }\n",
       "\n",
       "    .dataframe thead th {\n",
       "        text-align: right;\n",
       "    }\n",
       "</style>\n",
       "<table border=\"1\" class=\"dataframe\">\n",
       "  <thead>\n",
       "    <tr style=\"text-align: right;\">\n",
       "      <th></th>\n",
       "      <th>customerID</th>\n",
       "      <th>gender</th>\n",
       "      <th>SeniorCitizen</th>\n",
       "      <th>Partner</th>\n",
       "      <th>Dependents</th>\n",
       "      <th>tenure</th>\n",
       "      <th>PhoneService</th>\n",
       "      <th>MultipleLines</th>\n",
       "      <th>InternetService</th>\n",
       "      <th>OnlineSecurity</th>\n",
       "      <th>...</th>\n",
       "      <th>DeviceProtection</th>\n",
       "      <th>TechSupport</th>\n",
       "      <th>StreamingTV</th>\n",
       "      <th>StreamingMovies</th>\n",
       "      <th>Contract</th>\n",
       "      <th>PaperlessBilling</th>\n",
       "      <th>PaymentMethod</th>\n",
       "      <th>MonthlyCharges</th>\n",
       "      <th>TotalCharges</th>\n",
       "      <th>Churn</th>\n",
       "    </tr>\n",
       "  </thead>\n",
       "  <tbody>\n",
       "    <tr>\n",
       "      <th>0</th>\n",
       "      <td>7590-VHVEG</td>\n",
       "      <td>Female</td>\n",
       "      <td>0</td>\n",
       "      <td>Yes</td>\n",
       "      <td>No</td>\n",
       "      <td>1</td>\n",
       "      <td>No</td>\n",
       "      <td>No phone service</td>\n",
       "      <td>DSL</td>\n",
       "      <td>No</td>\n",
       "      <td>...</td>\n",
       "      <td>No</td>\n",
       "      <td>No</td>\n",
       "      <td>No</td>\n",
       "      <td>No</td>\n",
       "      <td>Month-to-month</td>\n",
       "      <td>Yes</td>\n",
       "      <td>Electronic check</td>\n",
       "      <td>29.85</td>\n",
       "      <td>29.85</td>\n",
       "      <td>No</td>\n",
       "    </tr>\n",
       "    <tr>\n",
       "      <th>1</th>\n",
       "      <td>5575-GNVDE</td>\n",
       "      <td>Male</td>\n",
       "      <td>0</td>\n",
       "      <td>No</td>\n",
       "      <td>No</td>\n",
       "      <td>34</td>\n",
       "      <td>Yes</td>\n",
       "      <td>No</td>\n",
       "      <td>DSL</td>\n",
       "      <td>Yes</td>\n",
       "      <td>...</td>\n",
       "      <td>Yes</td>\n",
       "      <td>No</td>\n",
       "      <td>No</td>\n",
       "      <td>No</td>\n",
       "      <td>One year</td>\n",
       "      <td>No</td>\n",
       "      <td>Mailed check</td>\n",
       "      <td>56.95</td>\n",
       "      <td>1889.5</td>\n",
       "      <td>No</td>\n",
       "    </tr>\n",
       "    <tr>\n",
       "      <th>2</th>\n",
       "      <td>3668-QPYBK</td>\n",
       "      <td>Male</td>\n",
       "      <td>0</td>\n",
       "      <td>No</td>\n",
       "      <td>No</td>\n",
       "      <td>2</td>\n",
       "      <td>Yes</td>\n",
       "      <td>No</td>\n",
       "      <td>DSL</td>\n",
       "      <td>Yes</td>\n",
       "      <td>...</td>\n",
       "      <td>No</td>\n",
       "      <td>No</td>\n",
       "      <td>No</td>\n",
       "      <td>No</td>\n",
       "      <td>Month-to-month</td>\n",
       "      <td>Yes</td>\n",
       "      <td>Mailed check</td>\n",
       "      <td>53.85</td>\n",
       "      <td>108.15</td>\n",
       "      <td>Yes</td>\n",
       "    </tr>\n",
       "    <tr>\n",
       "      <th>3</th>\n",
       "      <td>7795-CFOCW</td>\n",
       "      <td>Male</td>\n",
       "      <td>0</td>\n",
       "      <td>No</td>\n",
       "      <td>No</td>\n",
       "      <td>45</td>\n",
       "      <td>No</td>\n",
       "      <td>No phone service</td>\n",
       "      <td>DSL</td>\n",
       "      <td>Yes</td>\n",
       "      <td>...</td>\n",
       "      <td>Yes</td>\n",
       "      <td>Yes</td>\n",
       "      <td>No</td>\n",
       "      <td>No</td>\n",
       "      <td>One year</td>\n",
       "      <td>No</td>\n",
       "      <td>Bank transfer (automatic)</td>\n",
       "      <td>42.30</td>\n",
       "      <td>1840.75</td>\n",
       "      <td>No</td>\n",
       "    </tr>\n",
       "    <tr>\n",
       "      <th>4</th>\n",
       "      <td>9237-HQITU</td>\n",
       "      <td>Female</td>\n",
       "      <td>0</td>\n",
       "      <td>No</td>\n",
       "      <td>No</td>\n",
       "      <td>2</td>\n",
       "      <td>Yes</td>\n",
       "      <td>No</td>\n",
       "      <td>Fiber optic</td>\n",
       "      <td>No</td>\n",
       "      <td>...</td>\n",
       "      <td>No</td>\n",
       "      <td>No</td>\n",
       "      <td>No</td>\n",
       "      <td>No</td>\n",
       "      <td>Month-to-month</td>\n",
       "      <td>Yes</td>\n",
       "      <td>Electronic check</td>\n",
       "      <td>70.70</td>\n",
       "      <td>151.65</td>\n",
       "      <td>Yes</td>\n",
       "    </tr>\n",
       "  </tbody>\n",
       "</table>\n",
       "<p>5 rows × 21 columns</p>\n",
       "</div>"
      ],
      "text/plain": [
       "   customerID  gender  SeniorCitizen Partner Dependents  tenure PhoneService  \\\n",
       "0  7590-VHVEG  Female              0     Yes         No       1           No   \n",
       "1  5575-GNVDE    Male              0      No         No      34          Yes   \n",
       "2  3668-QPYBK    Male              0      No         No       2          Yes   \n",
       "3  7795-CFOCW    Male              0      No         No      45           No   \n",
       "4  9237-HQITU  Female              0      No         No       2          Yes   \n",
       "\n",
       "      MultipleLines InternetService OnlineSecurity  ... DeviceProtection  \\\n",
       "0  No phone service             DSL             No  ...               No   \n",
       "1                No             DSL            Yes  ...              Yes   \n",
       "2                No             DSL            Yes  ...               No   \n",
       "3  No phone service             DSL            Yes  ...              Yes   \n",
       "4                No     Fiber optic             No  ...               No   \n",
       "\n",
       "  TechSupport StreamingTV StreamingMovies        Contract PaperlessBilling  \\\n",
       "0          No          No              No  Month-to-month              Yes   \n",
       "1          No          No              No        One year               No   \n",
       "2          No          No              No  Month-to-month              Yes   \n",
       "3         Yes          No              No        One year               No   \n",
       "4          No          No              No  Month-to-month              Yes   \n",
       "\n",
       "               PaymentMethod MonthlyCharges  TotalCharges Churn  \n",
       "0           Electronic check          29.85         29.85    No  \n",
       "1               Mailed check          56.95        1889.5    No  \n",
       "2               Mailed check          53.85        108.15   Yes  \n",
       "3  Bank transfer (automatic)          42.30       1840.75    No  \n",
       "4           Electronic check          70.70        151.65   Yes  \n",
       "\n",
       "[5 rows x 21 columns]"
      ]
     },
     "execution_count": 2,
     "metadata": {},
     "output_type": "execute_result"
    }
   ],
   "source": [
    "df= pd.read_csv(\"WA_Fn-UseC_-Telco-Customer-Churn.csv\") #from Keggle\n",
    "df.head()"
   ]
  },
  {
   "cell_type": "code",
   "execution_count": 3,
   "metadata": {},
   "outputs": [
    {
     "data": {
      "text/plain": [
       "customerID           object\n",
       "gender               object\n",
       "SeniorCitizen         int64\n",
       "Partner              object\n",
       "Dependents           object\n",
       "tenure                int64\n",
       "PhoneService         object\n",
       "MultipleLines        object\n",
       "InternetService      object\n",
       "OnlineSecurity       object\n",
       "OnlineBackup         object\n",
       "DeviceProtection     object\n",
       "TechSupport          object\n",
       "StreamingTV          object\n",
       "StreamingMovies      object\n",
       "Contract             object\n",
       "PaperlessBilling     object\n",
       "PaymentMethod        object\n",
       "MonthlyCharges      float64\n",
       "TotalCharges         object\n",
       "Churn                object\n",
       "dtype: object"
      ]
     },
     "execution_count": 3,
     "metadata": {},
     "output_type": "execute_result"
    }
   ],
   "source": [
    "df.dtypes"
   ]
  },
  {
   "cell_type": "code",
   "execution_count": 4,
   "metadata": {},
   "outputs": [
    {
     "name": "stdout",
     "output_type": "stream",
     "text": [
      "customerID: ['7590-VHVEG' '5575-GNVDE' '3668-QPYBK' ... '4801-JZAZL' '8361-LTMKD'\n",
      " '3186-AJIEK']\n",
      "gender: ['Female' 'Male']\n",
      "Partner: ['Yes' 'No']\n",
      "Dependents: ['No' 'Yes']\n",
      "PhoneService: ['No' 'Yes']\n",
      "MultipleLines: ['No phone service' 'No' 'Yes']\n",
      "InternetService: ['DSL' 'Fiber optic' 'No']\n",
      "OnlineSecurity: ['No' 'Yes' 'No internet service']\n",
      "OnlineBackup: ['Yes' 'No' 'No internet service']\n",
      "DeviceProtection: ['No' 'Yes' 'No internet service']\n",
      "TechSupport: ['No' 'Yes' 'No internet service']\n",
      "StreamingTV: ['No' 'Yes' 'No internet service']\n",
      "StreamingMovies: ['No' 'Yes' 'No internet service']\n",
      "Contract: ['Month-to-month' 'One year' 'Two year']\n",
      "PaperlessBilling: ['Yes' 'No']\n",
      "PaymentMethod: ['Electronic check' 'Mailed check' 'Bank transfer (automatic)'\n",
      " 'Credit card (automatic)']\n",
      "TotalCharges: ['29.85' '1889.5' '108.15' ... '346.45' '306.6' '6844.5']\n",
      "Churn: ['No' 'Yes']\n"
     ]
    }
   ],
   "source": [
    "# Searcing for all the unique values in each column \n",
    "def print_unique_obj_col_values(df):\n",
    "        for column in df:\n",
    "            if df[column].dtype == object :\n",
    "                print (f'{column}: {df[column].unique()}')\n",
    "                \n",
    "print_unique_obj_col_values(df)"
   ]
  },
  {
   "cell_type": "markdown",
   "metadata": {},
   "source": [
    "### EDA checklist\n",
    "\n",
    "- drop customerID\n",
    "- convert all numeric values to float\n",
    "- marge redundent values into one group of data in each col\n",
    "- convert all catagorical data to neumerical \n",
    "- scale all neumerical data (using minmax scaler)"
   ]
  },
  {
   "cell_type": "code",
   "execution_count": 5,
   "metadata": {},
   "outputs": [
    {
     "data": {
      "text/plain": [
       "gender               object\n",
       "SeniorCitizen         int64\n",
       "Partner              object\n",
       "Dependents           object\n",
       "tenure                int64\n",
       "PhoneService         object\n",
       "MultipleLines        object\n",
       "InternetService      object\n",
       "OnlineSecurity       object\n",
       "OnlineBackup         object\n",
       "DeviceProtection     object\n",
       "TechSupport          object\n",
       "StreamingTV          object\n",
       "StreamingMovies      object\n",
       "Contract             object\n",
       "PaperlessBilling     object\n",
       "PaymentMethod        object\n",
       "MonthlyCharges      float64\n",
       "TotalCharges         object\n",
       "Churn                object\n",
       "dtype: object"
      ]
     },
     "execution_count": 5,
     "metadata": {},
     "output_type": "execute_result"
    }
   ],
   "source": [
    "df.drop('customerID',axis='columns',inplace=True)\n",
    "df.dtypes"
   ]
  },
  {
   "cell_type": "code",
   "execution_count": 6,
   "metadata": {},
   "outputs": [
    {
     "data": {
      "text/plain": [
       "array(['29.85', '1889.5', '108.15', ..., '346.45', '306.6', '6844.5'],\n",
       "      dtype=object)"
      ]
     },
     "execution_count": 6,
     "metadata": {},
     "output_type": "execute_result"
    }
   ],
   "source": [
    "df.TotalCharges.values"
   ]
  },
  {
   "cell_type": "code",
   "execution_count": 7,
   "metadata": {},
   "outputs": [
    {
     "ename": "ValueError",
     "evalue": "Unable to parse string \" \" at position 488",
     "output_type": "error",
     "traceback": [
      "\u001b[0;31m---------------------------------------------------------------------------\u001b[0m",
      "\u001b[0;31mValueError\u001b[0m                                Traceback (most recent call last)",
      "\u001b[0;32mpandas/_libs/lib.pyx\u001b[0m in \u001b[0;36mpandas._libs.lib.maybe_convert_numeric\u001b[0;34m()\u001b[0m\n",
      "\u001b[0;31mValueError\u001b[0m: Unable to parse string \" \"",
      "\nDuring handling of the above exception, another exception occurred:\n",
      "\u001b[0;31mValueError\u001b[0m                                Traceback (most recent call last)",
      "\u001b[0;32m<ipython-input-7-06ba430a4ba5>\u001b[0m in \u001b[0;36m<module>\u001b[0;34m\u001b[0m\n\u001b[0;32m----> 1\u001b[0;31m \u001b[0mpd\u001b[0m\u001b[0;34m.\u001b[0m\u001b[0mto_numeric\u001b[0m\u001b[0;34m(\u001b[0m\u001b[0mdf\u001b[0m\u001b[0;34m.\u001b[0m\u001b[0mTotalCharges\u001b[0m\u001b[0;34m)\u001b[0m\u001b[0;34m\u001b[0m\u001b[0;34m\u001b[0m\u001b[0m\n\u001b[0m",
      "\u001b[0;32m~/.local/lib/python3.8/site-packages/pandas/core/tools/numeric.py\u001b[0m in \u001b[0;36mto_numeric\u001b[0;34m(arg, errors, downcast)\u001b[0m\n\u001b[1;32m    150\u001b[0m         \u001b[0mcoerce_numeric\u001b[0m \u001b[0;34m=\u001b[0m \u001b[0merrors\u001b[0m \u001b[0;32mnot\u001b[0m \u001b[0;32min\u001b[0m \u001b[0;34m(\u001b[0m\u001b[0;34m\"ignore\"\u001b[0m\u001b[0;34m,\u001b[0m \u001b[0;34m\"raise\"\u001b[0m\u001b[0;34m)\u001b[0m\u001b[0;34m\u001b[0m\u001b[0;34m\u001b[0m\u001b[0m\n\u001b[1;32m    151\u001b[0m         \u001b[0;32mtry\u001b[0m\u001b[0;34m:\u001b[0m\u001b[0;34m\u001b[0m\u001b[0;34m\u001b[0m\u001b[0m\n\u001b[0;32m--> 152\u001b[0;31m             values = lib.maybe_convert_numeric(\n\u001b[0m\u001b[1;32m    153\u001b[0m                 \u001b[0mvalues\u001b[0m\u001b[0;34m,\u001b[0m \u001b[0mset\u001b[0m\u001b[0;34m(\u001b[0m\u001b[0;34m)\u001b[0m\u001b[0;34m,\u001b[0m \u001b[0mcoerce_numeric\u001b[0m\u001b[0;34m=\u001b[0m\u001b[0mcoerce_numeric\u001b[0m\u001b[0;34m\u001b[0m\u001b[0;34m\u001b[0m\u001b[0m\n\u001b[1;32m    154\u001b[0m             )\n",
      "\u001b[0;32mpandas/_libs/lib.pyx\u001b[0m in \u001b[0;36mpandas._libs.lib.maybe_convert_numeric\u001b[0;34m()\u001b[0m\n",
      "\u001b[0;31mValueError\u001b[0m: Unable to parse string \" \" at position 488"
     ]
    }
   ],
   "source": [
    "pd.to_numeric(df.TotalCharges)"
   ]
  },
  {
   "cell_type": "markdown",
   "metadata": {},
   "source": [
    "### The error is due to whitespaces in the object  data, white space can't be converted into float.\n",
    "### From the error,we can see there's a empty space on 488th row"
   ]
  },
  {
   "cell_type": "code",
   "execution_count": 8,
   "metadata": {},
   "outputs": [
    {
     "data": {
      "text/html": [
       "<div>\n",
       "<style scoped>\n",
       "    .dataframe tbody tr th:only-of-type {\n",
       "        vertical-align: middle;\n",
       "    }\n",
       "\n",
       "    .dataframe tbody tr th {\n",
       "        vertical-align: top;\n",
       "    }\n",
       "\n",
       "    .dataframe thead th {\n",
       "        text-align: right;\n",
       "    }\n",
       "</style>\n",
       "<table border=\"1\" class=\"dataframe\">\n",
       "  <thead>\n",
       "    <tr style=\"text-align: right;\">\n",
       "      <th></th>\n",
       "      <th>gender</th>\n",
       "      <th>SeniorCitizen</th>\n",
       "      <th>Partner</th>\n",
       "      <th>Dependents</th>\n",
       "      <th>tenure</th>\n",
       "      <th>PhoneService</th>\n",
       "      <th>MultipleLines</th>\n",
       "      <th>InternetService</th>\n",
       "      <th>OnlineSecurity</th>\n",
       "      <th>OnlineBackup</th>\n",
       "      <th>DeviceProtection</th>\n",
       "      <th>TechSupport</th>\n",
       "      <th>StreamingTV</th>\n",
       "      <th>StreamingMovies</th>\n",
       "      <th>Contract</th>\n",
       "      <th>PaperlessBilling</th>\n",
       "      <th>PaymentMethod</th>\n",
       "      <th>MonthlyCharges</th>\n",
       "      <th>TotalCharges</th>\n",
       "      <th>Churn</th>\n",
       "    </tr>\n",
       "  </thead>\n",
       "  <tbody>\n",
       "    <tr>\n",
       "      <th>488</th>\n",
       "      <td>Female</td>\n",
       "      <td>0</td>\n",
       "      <td>Yes</td>\n",
       "      <td>Yes</td>\n",
       "      <td>0</td>\n",
       "      <td>No</td>\n",
       "      <td>No phone service</td>\n",
       "      <td>DSL</td>\n",
       "      <td>Yes</td>\n",
       "      <td>No</td>\n",
       "      <td>Yes</td>\n",
       "      <td>Yes</td>\n",
       "      <td>Yes</td>\n",
       "      <td>No</td>\n",
       "      <td>Two year</td>\n",
       "      <td>Yes</td>\n",
       "      <td>Bank transfer (automatic)</td>\n",
       "      <td>52.55</td>\n",
       "      <td></td>\n",
       "      <td>No</td>\n",
       "    </tr>\n",
       "    <tr>\n",
       "      <th>753</th>\n",
       "      <td>Male</td>\n",
       "      <td>0</td>\n",
       "      <td>No</td>\n",
       "      <td>Yes</td>\n",
       "      <td>0</td>\n",
       "      <td>Yes</td>\n",
       "      <td>No</td>\n",
       "      <td>No</td>\n",
       "      <td>No internet service</td>\n",
       "      <td>No internet service</td>\n",
       "      <td>No internet service</td>\n",
       "      <td>No internet service</td>\n",
       "      <td>No internet service</td>\n",
       "      <td>No internet service</td>\n",
       "      <td>Two year</td>\n",
       "      <td>No</td>\n",
       "      <td>Mailed check</td>\n",
       "      <td>20.25</td>\n",
       "      <td></td>\n",
       "      <td>No</td>\n",
       "    </tr>\n",
       "    <tr>\n",
       "      <th>936</th>\n",
       "      <td>Female</td>\n",
       "      <td>0</td>\n",
       "      <td>Yes</td>\n",
       "      <td>Yes</td>\n",
       "      <td>0</td>\n",
       "      <td>Yes</td>\n",
       "      <td>No</td>\n",
       "      <td>DSL</td>\n",
       "      <td>Yes</td>\n",
       "      <td>Yes</td>\n",
       "      <td>Yes</td>\n",
       "      <td>No</td>\n",
       "      <td>Yes</td>\n",
       "      <td>Yes</td>\n",
       "      <td>Two year</td>\n",
       "      <td>No</td>\n",
       "      <td>Mailed check</td>\n",
       "      <td>80.85</td>\n",
       "      <td></td>\n",
       "      <td>No</td>\n",
       "    </tr>\n",
       "    <tr>\n",
       "      <th>1082</th>\n",
       "      <td>Male</td>\n",
       "      <td>0</td>\n",
       "      <td>Yes</td>\n",
       "      <td>Yes</td>\n",
       "      <td>0</td>\n",
       "      <td>Yes</td>\n",
       "      <td>Yes</td>\n",
       "      <td>No</td>\n",
       "      <td>No internet service</td>\n",
       "      <td>No internet service</td>\n",
       "      <td>No internet service</td>\n",
       "      <td>No internet service</td>\n",
       "      <td>No internet service</td>\n",
       "      <td>No internet service</td>\n",
       "      <td>Two year</td>\n",
       "      <td>No</td>\n",
       "      <td>Mailed check</td>\n",
       "      <td>25.75</td>\n",
       "      <td></td>\n",
       "      <td>No</td>\n",
       "    </tr>\n",
       "    <tr>\n",
       "      <th>1340</th>\n",
       "      <td>Female</td>\n",
       "      <td>0</td>\n",
       "      <td>Yes</td>\n",
       "      <td>Yes</td>\n",
       "      <td>0</td>\n",
       "      <td>No</td>\n",
       "      <td>No phone service</td>\n",
       "      <td>DSL</td>\n",
       "      <td>Yes</td>\n",
       "      <td>Yes</td>\n",
       "      <td>Yes</td>\n",
       "      <td>Yes</td>\n",
       "      <td>Yes</td>\n",
       "      <td>No</td>\n",
       "      <td>Two year</td>\n",
       "      <td>No</td>\n",
       "      <td>Credit card (automatic)</td>\n",
       "      <td>56.05</td>\n",
       "      <td></td>\n",
       "      <td>No</td>\n",
       "    </tr>\n",
       "    <tr>\n",
       "      <th>3331</th>\n",
       "      <td>Male</td>\n",
       "      <td>0</td>\n",
       "      <td>Yes</td>\n",
       "      <td>Yes</td>\n",
       "      <td>0</td>\n",
       "      <td>Yes</td>\n",
       "      <td>No</td>\n",
       "      <td>No</td>\n",
       "      <td>No internet service</td>\n",
       "      <td>No internet service</td>\n",
       "      <td>No internet service</td>\n",
       "      <td>No internet service</td>\n",
       "      <td>No internet service</td>\n",
       "      <td>No internet service</td>\n",
       "      <td>Two year</td>\n",
       "      <td>No</td>\n",
       "      <td>Mailed check</td>\n",
       "      <td>19.85</td>\n",
       "      <td></td>\n",
       "      <td>No</td>\n",
       "    </tr>\n",
       "    <tr>\n",
       "      <th>3826</th>\n",
       "      <td>Male</td>\n",
       "      <td>0</td>\n",
       "      <td>Yes</td>\n",
       "      <td>Yes</td>\n",
       "      <td>0</td>\n",
       "      <td>Yes</td>\n",
       "      <td>Yes</td>\n",
       "      <td>No</td>\n",
       "      <td>No internet service</td>\n",
       "      <td>No internet service</td>\n",
       "      <td>No internet service</td>\n",
       "      <td>No internet service</td>\n",
       "      <td>No internet service</td>\n",
       "      <td>No internet service</td>\n",
       "      <td>Two year</td>\n",
       "      <td>No</td>\n",
       "      <td>Mailed check</td>\n",
       "      <td>25.35</td>\n",
       "      <td></td>\n",
       "      <td>No</td>\n",
       "    </tr>\n",
       "    <tr>\n",
       "      <th>4380</th>\n",
       "      <td>Female</td>\n",
       "      <td>0</td>\n",
       "      <td>Yes</td>\n",
       "      <td>Yes</td>\n",
       "      <td>0</td>\n",
       "      <td>Yes</td>\n",
       "      <td>No</td>\n",
       "      <td>No</td>\n",
       "      <td>No internet service</td>\n",
       "      <td>No internet service</td>\n",
       "      <td>No internet service</td>\n",
       "      <td>No internet service</td>\n",
       "      <td>No internet service</td>\n",
       "      <td>No internet service</td>\n",
       "      <td>Two year</td>\n",
       "      <td>No</td>\n",
       "      <td>Mailed check</td>\n",
       "      <td>20.00</td>\n",
       "      <td></td>\n",
       "      <td>No</td>\n",
       "    </tr>\n",
       "    <tr>\n",
       "      <th>5218</th>\n",
       "      <td>Male</td>\n",
       "      <td>0</td>\n",
       "      <td>Yes</td>\n",
       "      <td>Yes</td>\n",
       "      <td>0</td>\n",
       "      <td>Yes</td>\n",
       "      <td>No</td>\n",
       "      <td>No</td>\n",
       "      <td>No internet service</td>\n",
       "      <td>No internet service</td>\n",
       "      <td>No internet service</td>\n",
       "      <td>No internet service</td>\n",
       "      <td>No internet service</td>\n",
       "      <td>No internet service</td>\n",
       "      <td>One year</td>\n",
       "      <td>Yes</td>\n",
       "      <td>Mailed check</td>\n",
       "      <td>19.70</td>\n",
       "      <td></td>\n",
       "      <td>No</td>\n",
       "    </tr>\n",
       "    <tr>\n",
       "      <th>6670</th>\n",
       "      <td>Female</td>\n",
       "      <td>0</td>\n",
       "      <td>Yes</td>\n",
       "      <td>Yes</td>\n",
       "      <td>0</td>\n",
       "      <td>Yes</td>\n",
       "      <td>Yes</td>\n",
       "      <td>DSL</td>\n",
       "      <td>No</td>\n",
       "      <td>Yes</td>\n",
       "      <td>Yes</td>\n",
       "      <td>Yes</td>\n",
       "      <td>Yes</td>\n",
       "      <td>No</td>\n",
       "      <td>Two year</td>\n",
       "      <td>No</td>\n",
       "      <td>Mailed check</td>\n",
       "      <td>73.35</td>\n",
       "      <td></td>\n",
       "      <td>No</td>\n",
       "    </tr>\n",
       "    <tr>\n",
       "      <th>6754</th>\n",
       "      <td>Male</td>\n",
       "      <td>0</td>\n",
       "      <td>No</td>\n",
       "      <td>Yes</td>\n",
       "      <td>0</td>\n",
       "      <td>Yes</td>\n",
       "      <td>Yes</td>\n",
       "      <td>DSL</td>\n",
       "      <td>Yes</td>\n",
       "      <td>Yes</td>\n",
       "      <td>No</td>\n",
       "      <td>Yes</td>\n",
       "      <td>No</td>\n",
       "      <td>No</td>\n",
       "      <td>Two year</td>\n",
       "      <td>Yes</td>\n",
       "      <td>Bank transfer (automatic)</td>\n",
       "      <td>61.90</td>\n",
       "      <td></td>\n",
       "      <td>No</td>\n",
       "    </tr>\n",
       "  </tbody>\n",
       "</table>\n",
       "</div>"
      ],
      "text/plain": [
       "      gender  SeniorCitizen Partner Dependents  tenure PhoneService  \\\n",
       "488   Female              0     Yes        Yes       0           No   \n",
       "753     Male              0      No        Yes       0          Yes   \n",
       "936   Female              0     Yes        Yes       0          Yes   \n",
       "1082    Male              0     Yes        Yes       0          Yes   \n",
       "1340  Female              0     Yes        Yes       0           No   \n",
       "3331    Male              0     Yes        Yes       0          Yes   \n",
       "3826    Male              0     Yes        Yes       0          Yes   \n",
       "4380  Female              0     Yes        Yes       0          Yes   \n",
       "5218    Male              0     Yes        Yes       0          Yes   \n",
       "6670  Female              0     Yes        Yes       0          Yes   \n",
       "6754    Male              0      No        Yes       0          Yes   \n",
       "\n",
       "         MultipleLines InternetService       OnlineSecurity  \\\n",
       "488   No phone service             DSL                  Yes   \n",
       "753                 No              No  No internet service   \n",
       "936                 No             DSL                  Yes   \n",
       "1082               Yes              No  No internet service   \n",
       "1340  No phone service             DSL                  Yes   \n",
       "3331                No              No  No internet service   \n",
       "3826               Yes              No  No internet service   \n",
       "4380                No              No  No internet service   \n",
       "5218                No              No  No internet service   \n",
       "6670               Yes             DSL                   No   \n",
       "6754               Yes             DSL                  Yes   \n",
       "\n",
       "             OnlineBackup     DeviceProtection          TechSupport  \\\n",
       "488                    No                  Yes                  Yes   \n",
       "753   No internet service  No internet service  No internet service   \n",
       "936                   Yes                  Yes                   No   \n",
       "1082  No internet service  No internet service  No internet service   \n",
       "1340                  Yes                  Yes                  Yes   \n",
       "3331  No internet service  No internet service  No internet service   \n",
       "3826  No internet service  No internet service  No internet service   \n",
       "4380  No internet service  No internet service  No internet service   \n",
       "5218  No internet service  No internet service  No internet service   \n",
       "6670                  Yes                  Yes                  Yes   \n",
       "6754                  Yes                   No                  Yes   \n",
       "\n",
       "              StreamingTV      StreamingMovies  Contract PaperlessBilling  \\\n",
       "488                   Yes                   No  Two year              Yes   \n",
       "753   No internet service  No internet service  Two year               No   \n",
       "936                   Yes                  Yes  Two year               No   \n",
       "1082  No internet service  No internet service  Two year               No   \n",
       "1340                  Yes                   No  Two year               No   \n",
       "3331  No internet service  No internet service  Two year               No   \n",
       "3826  No internet service  No internet service  Two year               No   \n",
       "4380  No internet service  No internet service  Two year               No   \n",
       "5218  No internet service  No internet service  One year              Yes   \n",
       "6670                  Yes                   No  Two year               No   \n",
       "6754                   No                   No  Two year              Yes   \n",
       "\n",
       "                  PaymentMethod  MonthlyCharges TotalCharges Churn  \n",
       "488   Bank transfer (automatic)           52.55                 No  \n",
       "753                Mailed check           20.25                 No  \n",
       "936                Mailed check           80.85                 No  \n",
       "1082               Mailed check           25.75                 No  \n",
       "1340    Credit card (automatic)           56.05                 No  \n",
       "3331               Mailed check           19.85                 No  \n",
       "3826               Mailed check           25.35                 No  \n",
       "4380               Mailed check           20.00                 No  \n",
       "5218               Mailed check           19.70                 No  \n",
       "6670               Mailed check           73.35                 No  \n",
       "6754  Bank transfer (automatic)           61.90                 No  "
      ]
     },
     "execution_count": 8,
     "metadata": {},
     "output_type": "execute_result"
    }
   ],
   "source": [
    "#Dropping all the null\n",
    "\n",
    "df[pd.to_numeric(df.TotalCharges,errors='coerce').isnull()]\n",
    "\n",
    "#The argument errors='coerce' ensures non-convertible values are replaced by NaN."
   ]
  },
  {
   "cell_type": "code",
   "execution_count": 9,
   "metadata": {},
   "outputs": [
    {
     "data": {
      "text/plain": [
       "dtype('O')"
      ]
     },
     "execution_count": 9,
     "metadata": {},
     "output_type": "execute_result"
    }
   ],
   "source": [
    "df.TotalCharges.dtype"
   ]
  },
  {
   "cell_type": "code",
   "execution_count": 10,
   "metadata": {},
   "outputs": [
    {
     "data": {
      "text/plain": [
       "(7043, 20)"
      ]
     },
     "execution_count": 10,
     "metadata": {},
     "output_type": "execute_result"
    }
   ],
   "source": [
    "df.shape"
   ]
  },
  {
   "cell_type": "code",
   "execution_count": 11,
   "metadata": {},
   "outputs": [
    {
     "data": {
      "text/plain": [
       "' '"
      ]
     },
     "execution_count": 11,
     "metadata": {},
     "output_type": "execute_result"
    }
   ],
   "source": [
    "df.iloc[488][\"TotalCharges\"]"
   ]
  },
  {
   "cell_type": "code",
   "execution_count": 12,
   "metadata": {},
   "outputs": [],
   "source": [
    "#Copying the ones without whitespace \n",
    "\n",
    "df1=df[df.TotalCharges != ' ']"
   ]
  },
  {
   "cell_type": "code",
   "execution_count": 13,
   "metadata": {},
   "outputs": [
    {
     "data": {
      "text/plain": [
       "(7032, 20)"
      ]
     },
     "execution_count": 13,
     "metadata": {},
     "output_type": "execute_result"
    }
   ],
   "source": [
    "df1.shape"
   ]
  },
  {
   "cell_type": "code",
   "execution_count": 14,
   "metadata": {},
   "outputs": [
    {
     "data": {
      "text/plain": [
       "gender               object\n",
       "SeniorCitizen         int64\n",
       "Partner              object\n",
       "Dependents           object\n",
       "tenure                int64\n",
       "PhoneService         object\n",
       "MultipleLines        object\n",
       "InternetService      object\n",
       "OnlineSecurity       object\n",
       "OnlineBackup         object\n",
       "DeviceProtection     object\n",
       "TechSupport          object\n",
       "StreamingTV          object\n",
       "StreamingMovies      object\n",
       "Contract             object\n",
       "PaperlessBilling     object\n",
       "PaymentMethod        object\n",
       "MonthlyCharges      float64\n",
       "TotalCharges         object\n",
       "Churn                object\n",
       "dtype: object"
      ]
     },
     "execution_count": 14,
     "metadata": {},
     "output_type": "execute_result"
    }
   ],
   "source": [
    "df1.dtypes"
   ]
  },
  {
   "cell_type": "code",
   "execution_count": 15,
   "metadata": {},
   "outputs": [
    {
     "name": "stderr",
     "output_type": "stream",
     "text": [
      "/home/arian/.local/lib/python3.8/site-packages/pandas/core/generic.py:5165: SettingWithCopyWarning: \n",
      "A value is trying to be set on a copy of a slice from a DataFrame.\n",
      "Try using .loc[row_indexer,col_indexer] = value instead\n",
      "\n",
      "See the caveats in the documentation: https://pandas.pydata.org/pandas-docs/stable/user_guide/indexing.html#returning-a-view-versus-a-copy\n",
      "  self[name] = value\n"
     ]
    },
    {
     "data": {
      "text/plain": [
       "gender               object\n",
       "SeniorCitizen         int64\n",
       "Partner              object\n",
       "Dependents           object\n",
       "tenure                int64\n",
       "PhoneService         object\n",
       "MultipleLines        object\n",
       "InternetService      object\n",
       "OnlineSecurity       object\n",
       "OnlineBackup         object\n",
       "DeviceProtection     object\n",
       "TechSupport          object\n",
       "StreamingTV          object\n",
       "StreamingMovies      object\n",
       "Contract             object\n",
       "PaperlessBilling     object\n",
       "PaymentMethod        object\n",
       "MonthlyCharges      float64\n",
       "TotalCharges        float64\n",
       "Churn                object\n",
       "dtype: object"
      ]
     },
     "execution_count": 15,
     "metadata": {},
     "output_type": "execute_result"
    }
   ],
   "source": [
    "df1.TotalCharges=pd.to_numeric(df1.TotalCharges)\n",
    "df1.dtypes"
   ]
  },
  {
   "cell_type": "code",
   "execution_count": 16,
   "metadata": {},
   "outputs": [],
   "source": [
    "#Tenure == how many months they have been using the service\n",
    "tenure_churn_no = df1[df1.Churn==\"No\"].tenure #ones not leaving\n",
    "tenure_churn_yes = df1[df1.Churn==\"Yes\"].tenure\n"
   ]
  },
  {
   "cell_type": "code",
   "execution_count": 17,
   "metadata": {},
   "outputs": [
    {
     "data": {
      "text/plain": [
       "<matplotlib.legend.Legend at 0x7f0e8b9a00d0>"
      ]
     },
     "execution_count": 17,
     "metadata": {},
     "output_type": "execute_result"
    },
    {
     "data": {
      "image/png": "[encoded data removed]",
      "text/plain": [
       "<Figure size 432x288 with 1 Axes>"
      ]
     },
     "metadata": {
      "needs_background": "light"
     },
     "output_type": "display_data"
    }
   ],
   "source": [
    "plt.xlabel(\"Tenure\")\n",
    "plt.ylabel(\"No. of Customers\")\n",
    "plt.title(\"Churn Visualization wtih Tenure\")\n",
    "\n",
    "plt.hist([tenure_churn_no, tenure_churn_yes] , rwidth=0.95,color=['green','red'],label=['Staying','Leaving'])\n",
    "plt.legend() #otherwie the labels won't show"
   ]
  },
  {
   "cell_type": "code",
   "execution_count": 18,
   "metadata": {},
   "outputs": [
    {
     "data": {
      "text/plain": [
       "<matplotlib.legend.Legend at 0x7f0e89812970>"
      ]
     },
     "execution_count": 18,
     "metadata": {},
     "output_type": "execute_result"
    },
    {
     "data": {
      "image/png": "[encoded data removed]",
      "text/plain": [
       "<Figure size 432x288 with 1 Axes>"
      ]
     },
     "metadata": {
      "needs_background": "light"
     },
     "output_type": "display_data"
    }
   ],
   "source": [
    "monthly_churn_no = df1[df1.Churn==\"No\"].MonthlyCharges #ones not leaving\n",
    "monthly_churn_yes = df1[df1.Churn==\"Yes\"].MonthlyCharges\n",
    "\n",
    "\n",
    "plt.xlabel(\"MonthlyCharges\")\n",
    "plt.ylabel(\"No. of Customers\")\n",
    "plt.title(\"Churn Visualization with Monthly Charges\")\n",
    "\n",
    "plt.hist([monthly_churn_no,monthly_churn_yes] , rwidth=0.95,color=['green','red'],label=['Staying','Leaving'])\n",
    "plt.legend() #otherwie the labels won't show"
   ]
  },
  {
   "cell_type": "code",
   "execution_count": 19,
   "metadata": {},
   "outputs": [
    {
     "name": "stdout",
     "output_type": "stream",
     "text": [
      "gender: ['Female' 'Male']\n",
      "Partner: ['Yes' 'No']\n",
      "Dependents: ['No' 'Yes']\n",
      "PhoneService: ['No' 'Yes']\n",
      "MultipleLines: ['No phone service' 'No' 'Yes']\n",
      "InternetService: ['DSL' 'Fiber optic' 'No']\n",
      "OnlineSecurity: ['No' 'Yes' 'No internet service']\n",
      "OnlineBackup: ['Yes' 'No' 'No internet service']\n",
      "DeviceProtection: ['No' 'Yes' 'No internet service']\n",
      "TechSupport: ['No' 'Yes' 'No internet service']\n",
      "StreamingTV: ['No' 'Yes' 'No internet service']\n",
      "StreamingMovies: ['No' 'Yes' 'No internet service']\n",
      "Contract: ['Month-to-month' 'One year' 'Two year']\n",
      "PaperlessBilling: ['Yes' 'No']\n",
      "PaymentMethod: ['Electronic check' 'Mailed check' 'Bank transfer (automatic)'\n",
      " 'Credit card (automatic)']\n",
      "Churn: ['No' 'Yes']\n"
     ]
    },
    {
     "data": {
      "text/plain": [
       "gender               object\n",
       "SeniorCitizen         int64\n",
       "Partner              object\n",
       "Dependents           object\n",
       "tenure                int64\n",
       "PhoneService         object\n",
       "MultipleLines        object\n",
       "InternetService      object\n",
       "OnlineSecurity       object\n",
       "OnlineBackup         object\n",
       "DeviceProtection     object\n",
       "TechSupport          object\n",
       "StreamingTV          object\n",
       "StreamingMovies      object\n",
       "Contract             object\n",
       "PaperlessBilling     object\n",
       "PaymentMethod        object\n",
       "MonthlyCharges      float64\n",
       "TotalCharges        float64\n",
       "Churn                object\n",
       "dtype: object"
      ]
     },
     "execution_count": 19,
     "metadata": {},
     "output_type": "execute_result"
    }
   ],
   "source": [
    "print_unique_obj_col_values(df1)\n",
    "df1.dtypes"
   ]
  },
  {
   "cell_type": "code",
   "execution_count": 20,
   "metadata": {},
   "outputs": [
    {
     "name": "stdout",
     "output_type": "stream",
     "text": [
      "gender: ['Female' 'Male']\n",
      "Partner: ['Yes' 'No']\n",
      "Dependents: ['No' 'Yes']\n",
      "PhoneService: ['No' 'Yes']\n",
      "MultipleLines: ['No' 'Yes']\n",
      "InternetService: ['DSL' 'Fiber optic' 'No']\n",
      "OnlineSecurity: ['No' 'Yes']\n",
      "OnlineBackup: ['Yes' 'No']\n",
      "DeviceProtection: ['No' 'Yes']\n",
      "TechSupport: ['No' 'Yes']\n",
      "StreamingTV: ['No' 'Yes']\n",
      "StreamingMovies: ['No' 'Yes']\n",
      "Contract: ['Month-to-month' 'One year' 'Two year']\n",
      "PaperlessBilling: ['Yes' 'No']\n",
      "PaymentMethod: ['Electronic check' 'Mailed check' 'Bank transfer (automatic)'\n",
      " 'Credit card (automatic)']\n",
      "Churn: ['No' 'Yes']\n"
     ]
    },
    {
     "name": "stderr",
     "output_type": "stream",
     "text": [
      "/home/arian/.local/lib/python3.8/site-packages/pandas/core/frame.py:4378: SettingWithCopyWarning: \n",
      "A value is trying to be set on a copy of a slice from a DataFrame\n",
      "\n",
      "See the caveats in the documentation: https://pandas.pydata.org/pandas-docs/stable/user_guide/indexing.html#returning-a-view-versus-a-copy\n",
      "  return super().replace(\n"
     ]
    },
    {
     "data": {
      "text/plain": [
       "gender               object\n",
       "SeniorCitizen         int64\n",
       "Partner              object\n",
       "Dependents           object\n",
       "tenure                int64\n",
       "PhoneService         object\n",
       "MultipleLines        object\n",
       "InternetService      object\n",
       "OnlineSecurity       object\n",
       "OnlineBackup         object\n",
       "DeviceProtection     object\n",
       "TechSupport          object\n",
       "StreamingTV          object\n",
       "StreamingMovies      object\n",
       "Contract             object\n",
       "PaperlessBilling     object\n",
       "PaymentMethod        object\n",
       "MonthlyCharges      float64\n",
       "TotalCharges        float64\n",
       "Churn                object\n",
       "dtype: object"
      ]
     },
     "execution_count": 20,
     "metadata": {},
     "output_type": "execute_result"
    }
   ],
   "source": [
    "df1.replace(\"No internet service\",\"No\",inplace=True)\n",
    "df1.replace(\"No phone service\",\"No\",inplace=True)\n",
    "\n",
    "print_unique_obj_col_values(df1)\n",
    "\n",
    "df1.dtypes"
   ]
  },
  {
   "cell_type": "code",
   "execution_count": 21,
   "metadata": {},
   "outputs": [
    {
     "name": "stdout",
     "output_type": "stream",
     "text": [
      "['gender', 'Partner', 'Dependents', 'PhoneService', 'MultipleLines', 'InternetService', 'OnlineSecurity', 'OnlineBackup', 'DeviceProtection', 'TechSupport', 'StreamingTV', 'StreamingMovies', 'Contract', 'PaperlessBilling', 'PaymentMethod', 'Churn']\n"
     ]
    },
    {
     "data": {
      "text/plain": [
       "list"
      ]
     },
     "execution_count": 21,
     "metadata": {},
     "output_type": "execute_result"
    }
   ],
   "source": [
    "#Collecting  object Col names for one hot encoding\n",
    "\n",
    "columns_for_onehot=[]\n",
    "for column in df1:\n",
    "        if df1[column].dtype == object :\n",
    "            columns_for_onehot.append(column)\n",
    "                \n",
    "print(columns_for_onehot)\n",
    "\n",
    "type(columns_for_onehot)"
   ]
  },
  {
   "cell_type": "code",
   "execution_count": 22,
   "metadata": {},
   "outputs": [
    {
     "name": "stdout",
     "output_type": "stream",
     "text": [
      "gender\n",
      "['Female' 'Male']\n",
      "Partner\n",
      "['Yes' 'No']\n",
      "Dependents\n",
      "['No' 'Yes']\n",
      "PhoneService\n",
      "['No' 'Yes']\n",
      "MultipleLines\n",
      "['No' 'Yes']\n",
      "InternetService\n",
      "['DSL' 'Fiber optic' 'No']\n",
      "OnlineSecurity\n",
      "['No' 'Yes']\n",
      "OnlineBackup\n",
      "['Yes' 'No']\n",
      "DeviceProtection\n",
      "['No' 'Yes']\n",
      "TechSupport\n",
      "['No' 'Yes']\n",
      "StreamingTV\n",
      "['No' 'Yes']\n",
      "StreamingMovies\n",
      "['No' 'Yes']\n",
      "Contract\n",
      "['Month-to-month' 'One year' 'Two year']\n",
      "PaperlessBilling\n",
      "['Yes' 'No']\n",
      "PaymentMethod\n",
      "['Electronic check' 'Mailed check' 'Bank transfer (automatic)'\n",
      " 'Credit card (automatic)']\n",
      "Churn\n",
      "['No' 'Yes']\n"
     ]
    },
    {
     "name": "stderr",
     "output_type": "stream",
     "text": [
      "/home/arian/.local/lib/python3.8/site-packages/pandas/core/series.py:4563: SettingWithCopyWarning: \n",
      "A value is trying to be set on a copy of a slice from a DataFrame\n",
      "\n",
      "See the caveats in the documentation: https://pandas.pydata.org/pandas-docs/stable/user_guide/indexing.html#returning-a-view-versus-a-copy\n",
      "  return super().replace(\n"
     ]
    }
   ],
   "source": [
    "for col in columns_for_onehot:\n",
    "        print(col)\n",
    "        print(df1[col].unique())\n",
    "        df1[col].replace({\"Yes\":1,'No':0},inplace=True)\n",
    "       # df1[col].replace({\"Male\":1,'Female':0},inplace=True)"
   ]
  },
  {
   "cell_type": "markdown",
   "metadata": {},
   "source": [
    "### Ignore this error , this is due to setting inplace to true and running it again ."
   ]
  },
  {
   "cell_type": "code",
   "execution_count": 23,
   "metadata": {},
   "outputs": [
    {
     "name": "stdout",
     "output_type": "stream",
     "text": [
      "gender: ['Female' 'Male']\n",
      "InternetService: ['DSL' 'Fiber optic' 0]\n",
      "Contract: ['Month-to-month' 'One year' 'Two year']\n",
      "PaymentMethod: ['Electronic check' 'Mailed check' 'Bank transfer (automatic)'\n",
      " 'Credit card (automatic)']\n"
     ]
    }
   ],
   "source": [
    "print_unique_obj_col_values(df1)"
   ]
  },
  {
   "cell_type": "code",
   "execution_count": 24,
   "metadata": {},
   "outputs": [
    {
     "name": "stdout",
     "output_type": "stream",
     "text": [
      "gender: ['Female' 'Male']\n",
      "SeniorCitizen: [0 1]\n",
      "Partner: [1 0]\n",
      "Dependents: [0 1]\n",
      "tenure: [ 1 34  2 45  8 22 10 28 62 13 16 58 49 25 69 52 71 21 12 30 47 72 17 27\n",
      "  5 46 11 70 63 43 15 60 18 66  9  3 31 50 64 56  7 42 35 48 29 65 38 68\n",
      " 32 55 37 36 41  6  4 33 67 23 57 61 14 20 53 40 59 24 44 19 54 51 26 39]\n",
      "PhoneService: [0 1]\n",
      "MultipleLines: [0 1]\n",
      "InternetService: ['DSL' 'Fiber optic' 0]\n",
      "OnlineSecurity: [0 1]\n",
      "OnlineBackup: [1 0]\n",
      "DeviceProtection: [0 1]\n",
      "TechSupport: [0 1]\n",
      "StreamingTV: [0 1]\n",
      "StreamingMovies: [0 1]\n",
      "Contract: ['Month-to-month' 'One year' 'Two year']\n",
      "PaperlessBilling: [1 0]\n",
      "PaymentMethod: ['Electronic check' 'Mailed check' 'Bank transfer (automatic)'\n",
      " 'Credit card (automatic)']\n",
      "MonthlyCharges: [29.85 56.95 53.85 ... 63.1  44.2  78.7 ]\n",
      "TotalCharges: [  29.85 1889.5   108.15 ...  346.45  306.6  6844.5 ]\n",
      "Churn: [0 1]\n"
     ]
    }
   ],
   "source": [
    "for col in df1:\n",
    "    print (f'{col}: {df1[col].unique()}')"
   ]
  },
  {
   "cell_type": "code",
   "execution_count": 29,
   "metadata": {},
   "outputs": [],
   "source": [
    "df1[\"gender\"].replace({'Male':0,'Female':1},inplace=True)"
   ]
  },
  {
   "cell_type": "code",
   "execution_count": 30,
   "metadata": {},
   "outputs": [
    {
     "name": "stdout",
     "output_type": "stream",
     "text": [
      "gender: [1 0]\n",
      "SeniorCitizen: [0 1]\n",
      "Partner: [1 0]\n",
      "Dependents: [0 1]\n",
      "tenure: [ 1 34  2 45  8 22 10 28 62 13 16 58 49 25 69 52 71 21 12 30 47 72 17 27\n",
      "  5 46 11 70 63 43 15 60 18 66  9  3 31 50 64 56  7 42 35 48 29 65 38 68\n",
      " 32 55 37 36 41  6  4 33 67 23 57 61 14 20 53 40 59 24 44 19 54 51 26 39]\n",
      "PhoneService: [0 1]\n",
      "MultipleLines: [0 1]\n",
      "InternetService: ['DSL' 'Fiber optic' 0]\n",
      "OnlineSecurity: [0 1]\n",
      "OnlineBackup: [1 0]\n",
      "DeviceProtection: [0 1]\n",
      "TechSupport: [0 1]\n",
      "StreamingTV: [0 1]\n",
      "StreamingMovies: [0 1]\n",
      "Contract: ['Month-to-month' 'One year' 'Two year']\n",
      "PaperlessBilling: [1 0]\n",
      "PaymentMethod: ['Electronic check' 'Mailed check' 'Bank transfer (automatic)'\n",
      " 'Credit card (automatic)']\n",
      "MonthlyCharges: [29.85 56.95 53.85 ... 63.1  44.2  78.7 ]\n",
      "TotalCharges: [  29.85 1889.5   108.15 ...  346.45  306.6  6844.5 ]\n",
      "Churn: [0 1]\n"
     ]
    }
   ],
   "source": [
    "for col in df1:\n",
    "    print (f'{col}: {df1[col].unique()}')"
   ]
  },
  {
   "cell_type": "code",
   "execution_count": 38,
   "metadata": {},
   "outputs": [
    {
     "data": {
      "text/plain": [
       "['gender',\n",
       " 'SeniorCitizen',\n",
       " 'Partner',\n",
       " 'Dependents',\n",
       " 'tenure',\n",
       " 'PhoneService',\n",
       " 'MultipleLines',\n",
       " 'OnlineSecurity',\n",
       " 'OnlineBackup',\n",
       " 'DeviceProtection',\n",
       " 'TechSupport',\n",
       " 'StreamingTV',\n",
       " 'StreamingMovies',\n",
       " 'PaperlessBilling',\n",
       " 'MonthlyCharges',\n",
       " 'TotalCharges',\n",
       " 'Churn',\n",
       " 'InternetService_0',\n",
       " 'InternetService_DSL',\n",
       " 'InternetService_Fiber optic',\n",
       " 'Contract_Month-to-month',\n",
       " 'Contract_One year',\n",
       " 'Contract_Two year',\n",
       " 'PaymentMethod_Bank transfer (automatic)',\n",
       " 'PaymentMethod_Credit card (automatic)',\n",
       " 'PaymentMethod_Electronic check',\n",
       " 'PaymentMethod_Mailed check']"
      ]
     },
     "execution_count": 38,
     "metadata": {},
     "output_type": "execute_result"
    }
   ],
   "source": [
    "#One hot encoding\n",
    "\n",
    "df2 = pd.get_dummies(data=df1,columns=[\"InternetService\",\"Contract\",\"PaymentMethod\"])\n",
    "\n",
    "list(df2.columns)"
   ]
  },
  {
   "cell_type": "code",
   "execution_count": 40,
   "metadata": {
    "scrolled": true
   },
   "outputs": [
    {
     "data": {
      "text/plain": [
       "gender                                       int64\n",
       "SeniorCitizen                                int64\n",
       "Partner                                      int64\n",
       "Dependents                                   int64\n",
       "tenure                                       int64\n",
       "PhoneService                                 int64\n",
       "MultipleLines                                int64\n",
       "OnlineSecurity                               int64\n",
       "OnlineBackup                                 int64\n",
       "DeviceProtection                             int64\n",
       "TechSupport                                  int64\n",
       "StreamingTV                                  int64\n",
       "StreamingMovies                              int64\n",
       "PaperlessBilling                             int64\n",
       "MonthlyCharges                             float64\n",
       "TotalCharges                               float64\n",
       "Churn                                        int64\n",
       "InternetService_0                            uint8\n",
       "InternetService_DSL                          uint8\n",
       "InternetService_Fiber optic                  uint8\n",
       "Contract_Month-to-month                      uint8\n",
       "Contract_One year                            uint8\n",
       "Contract_Two year                            uint8\n",
       "PaymentMethod_Bank transfer (automatic)      uint8\n",
       "PaymentMethod_Credit card (automatic)        uint8\n",
       "PaymentMethod_Electronic check               uint8\n",
       "PaymentMethod_Mailed check                   uint8\n",
       "dtype: object"
      ]
     },
     "execution_count": 40,
     "metadata": {},
     "output_type": "execute_result"
    }
   ],
   "source": [
    "df2.dtypes"
   ]
  },
  {
   "cell_type": "code",
   "execution_count": 43,
   "metadata": {},
   "outputs": [
    {
     "data": {
      "text/html": [
       "<div>\n",
       "<style scoped>\n",
       "    .dataframe tbody tr th:only-of-type {\n",
       "        vertical-align: middle;\n",
       "    }\n",
       "\n",
       "    .dataframe tbody tr th {\n",
       "        vertical-align: top;\n",
       "    }\n",
       "\n",
       "    .dataframe thead th {\n",
       "        text-align: right;\n",
       "    }\n",
       "</style>\n",
       "<table border=\"1\" class=\"dataframe\">\n",
       "  <thead>\n",
       "    <tr style=\"text-align: right;\">\n",
       "      <th></th>\n",
       "      <th>gender</th>\n",
       "      <th>SeniorCitizen</th>\n",
       "      <th>Partner</th>\n",
       "      <th>Dependents</th>\n",
       "      <th>tenure</th>\n",
       "      <th>PhoneService</th>\n",
       "      <th>MultipleLines</th>\n",
       "      <th>OnlineSecurity</th>\n",
       "      <th>OnlineBackup</th>\n",
       "      <th>DeviceProtection</th>\n",
       "      <th>...</th>\n",
       "      <th>InternetService_0</th>\n",
       "      <th>InternetService_DSL</th>\n",
       "      <th>InternetService_Fiber optic</th>\n",
       "      <th>Contract_Month-to-month</th>\n",
       "      <th>Contract_One year</th>\n",
       "      <th>Contract_Two year</th>\n",
       "      <th>PaymentMethod_Bank transfer (automatic)</th>\n",
       "      <th>PaymentMethod_Credit card (automatic)</th>\n",
       "      <th>PaymentMethod_Electronic check</th>\n",
       "      <th>PaymentMethod_Mailed check</th>\n",
       "    </tr>\n",
       "  </thead>\n",
       "  <tbody>\n",
       "    <tr>\n",
       "      <th>2801</th>\n",
       "      <td>1</td>\n",
       "      <td>0</td>\n",
       "      <td>1</td>\n",
       "      <td>1</td>\n",
       "      <td>62</td>\n",
       "      <td>1</td>\n",
       "      <td>1</td>\n",
       "      <td>0</td>\n",
       "      <td>1</td>\n",
       "      <td>0</td>\n",
       "      <td>...</td>\n",
       "      <td>0</td>\n",
       "      <td>0</td>\n",
       "      <td>1</td>\n",
       "      <td>0</td>\n",
       "      <td>1</td>\n",
       "      <td>0</td>\n",
       "      <td>0</td>\n",
       "      <td>1</td>\n",
       "      <td>0</td>\n",
       "      <td>0</td>\n",
       "    </tr>\n",
       "    <tr>\n",
       "      <th>4518</th>\n",
       "      <td>0</td>\n",
       "      <td>1</td>\n",
       "      <td>0</td>\n",
       "      <td>0</td>\n",
       "      <td>8</td>\n",
       "      <td>1</td>\n",
       "      <td>1</td>\n",
       "      <td>0</td>\n",
       "      <td>0</td>\n",
       "      <td>1</td>\n",
       "      <td>...</td>\n",
       "      <td>0</td>\n",
       "      <td>0</td>\n",
       "      <td>1</td>\n",
       "      <td>1</td>\n",
       "      <td>0</td>\n",
       "      <td>0</td>\n",
       "      <td>0</td>\n",
       "      <td>0</td>\n",
       "      <td>1</td>\n",
       "      <td>0</td>\n",
       "    </tr>\n",
       "  </tbody>\n",
       "</table>\n",
       "<p>2 rows × 27 columns</p>\n",
       "</div>"
      ],
      "text/plain": [
       "      gender  SeniorCitizen  Partner  Dependents  tenure  PhoneService  \\\n",
       "2801       1              0        1           1      62             1   \n",
       "4518       0              1        0           0       8             1   \n",
       "\n",
       "      MultipleLines  OnlineSecurity  OnlineBackup  DeviceProtection  ...  \\\n",
       "2801              1               0             1                 0  ...   \n",
       "4518              1               0             0                 1  ...   \n",
       "\n",
       "      InternetService_0  InternetService_DSL  InternetService_Fiber optic  \\\n",
       "2801                  0                    0                            1   \n",
       "4518                  0                    0                            1   \n",
       "\n",
       "      Contract_Month-to-month  Contract_One year  Contract_Two year  \\\n",
       "2801                        0                  1                  0   \n",
       "4518                        1                  0                  0   \n",
       "\n",
       "      PaymentMethod_Bank transfer (automatic)  \\\n",
       "2801                                        0   \n",
       "4518                                        0   \n",
       "\n",
       "      PaymentMethod_Credit card (automatic)  PaymentMethod_Electronic check  \\\n",
       "2801                                      1                               0   \n",
       "4518                                      0                               1   \n",
       "\n",
       "      PaymentMethod_Mailed check  \n",
       "2801                           0  \n",
       "4518                           0  \n",
       "\n",
       "[2 rows x 27 columns]"
      ]
     },
     "execution_count": 43,
     "metadata": {},
     "output_type": "execute_result"
    }
   ],
   "source": [
    "df2.sample(2)"
   ]
  },
  {
   "cell_type": "code",
   "execution_count": 48,
   "metadata": {},
   "outputs": [],
   "source": [
    "#scaling the neumeric values\n",
    "\n",
    "\n",
    "cols_to_scale=[\"tenure\",'TotalCharges','MonthlyCharges']\n",
    "\n",
    "\n",
    "from sklearn.preprocessing import MinMaxScaler\n",
    "scaler= MinMaxScaler()\n",
    "\n",
    "df2[cols_to_scale]=scaler.fit_transform(df2[cols_to_scale])\n",
    "\n"
   ]
  },
  {
   "cell_type": "code",
   "execution_count": 51,
   "metadata": {},
   "outputs": [
    {
     "name": "stdout",
     "output_type": "stream",
     "text": [
      "gender: [1 0]\n",
      "SeniorCitizen: [0 1]\n",
      "Partner: [1 0]\n",
      "Dependents: [0 1]\n",
      "tenure: [0.         0.46478873 0.01408451 0.61971831 0.09859155 0.29577465\n",
      " 0.12676056 0.38028169 0.85915493 0.16901408 0.21126761 0.8028169\n",
      " 0.67605634 0.33802817 0.95774648 0.71830986 0.98591549 0.28169014\n",
      " 0.15492958 0.4084507  0.64788732 1.         0.22535211 0.36619718\n",
      " 0.05633803 0.63380282 0.14084507 0.97183099 0.87323944 0.5915493\n",
      " 0.1971831  0.83098592 0.23943662 0.91549296 0.11267606 0.02816901\n",
      " 0.42253521 0.69014085 0.88732394 0.77464789 0.08450704 0.57746479\n",
      " 0.47887324 0.66197183 0.3943662  0.90140845 0.52112676 0.94366197\n",
      " 0.43661972 0.76056338 0.50704225 0.49295775 0.56338028 0.07042254\n",
      " 0.04225352 0.45070423 0.92957746 0.30985915 0.78873239 0.84507042\n",
      " 0.18309859 0.26760563 0.73239437 0.54929577 0.81690141 0.32394366\n",
      " 0.6056338  0.25352113 0.74647887 0.70422535 0.35211268 0.53521127]\n",
      "PhoneService: [0 1]\n",
      "MultipleLines: [0 1]\n",
      "OnlineSecurity: [0 1]\n",
      "OnlineBackup: [1 0]\n",
      "DeviceProtection: [0 1]\n",
      "TechSupport: [0 1]\n",
      "StreamingTV: [0 1]\n",
      "StreamingMovies: [0 1]\n",
      "PaperlessBilling: [1 0]\n",
      "MonthlyCharges: [0.11542289 0.38507463 0.35422886 ... 0.44626866 0.25820896 0.60149254]\n",
      "TotalCharges: [0.0012751  0.21586661 0.01031041 ... 0.03780868 0.03321025 0.78764136]\n",
      "Churn: [0 1]\n",
      "InternetService_0: [0 1]\n",
      "InternetService_DSL: [1 0]\n",
      "InternetService_Fiber optic: [0 1]\n",
      "Contract_Month-to-month: [1 0]\n",
      "Contract_One year: [0 1]\n",
      "Contract_Two year: [0 1]\n",
      "PaymentMethod_Bank transfer (automatic): [0 1]\n",
      "PaymentMethod_Credit card (automatic): [0 1]\n",
      "PaymentMethod_Electronic check: [1 0]\n",
      "PaymentMethod_Mailed check: [0 1]\n"
     ]
    }
   ],
   "source": [
    "for col in df2:\n",
    "    print (f'{col}: {df2[col].unique()}')"
   ]
  },
  {
   "cell_type": "code",
   "execution_count": null,
   "metadata": {},
   "outputs": [],
   "source": [
    "# Model training"
   ]
  },
  {
   "cell_type": "code",
   "execution_count": 53,
   "metadata": {},
   "outputs": [],
   "source": [
    "x= df2.drop('Churn',axis='columns')\n",
    "y=df2[\"Churn\"]\n",
    "\n",
    "from sklearn.model_selection import train_test_split\n",
    "x_train,x_test,y_train,y_test = train_test_split(x,y,test_size=.2,random_state=2)"
   ]
  },
  {
   "cell_type": "code",
   "execution_count": 56,
   "metadata": {},
   "outputs": [
    {
     "data": {
      "text/plain": [
       "(5625, 26)"
      ]
     },
     "execution_count": 56,
     "metadata": {},
     "output_type": "execute_result"
    }
   ],
   "source": [
    "x_train.shape"
   ]
  },
  {
   "cell_type": "code",
   "execution_count": 82,
   "metadata": {},
   "outputs": [],
   "source": [
    "import tensorflow as tf\n",
    "from tensorflow import keras\n",
    "\n",
    "model= keras.Sequential([\n",
    "    keras.layers.Dense(26,input_shape=(26,),activation='LeakyReLU'),#giving col number of neurons in first layer\n",
    "    keras.layers.Dense(15,activation='LeakyReLU'),\n",
    "    keras.layers.Dense(1,activation='sigmoid')\n",
    "    #used sigmoid on the last as our output is binary \n",
    "])\n",
    "\n",
    "model.compile(optimizer='adam',\n",
    "             loss=\"binary_crossentropy\", #since expecting binary output\n",
    "             metrics=[\"accuracy\"])\n"
   ]
  },
  {
   "cell_type": "code",
   "execution_count": 84,
   "metadata": {},
   "outputs": [
    {
     "name": "stdout",
     "output_type": "stream",
     "text": [
      "Epoch 1/250\n",
      "176/176 - 0s - loss: 0.3241 - accuracy: 0.8501\n",
      "Epoch 2/250\n",
      "176/176 - 0s - loss: 0.3245 - accuracy: 0.8516\n",
      "Epoch 3/250\n",
      "176/176 - 0s - loss: 0.3223 - accuracy: 0.8523\n",
      "Epoch 4/250\n",
      "176/176 - 0s - loss: 0.3218 - accuracy: 0.8496\n",
      "Epoch 5/250\n",
      "176/176 - 0s - loss: 0.3232 - accuracy: 0.8492\n",
      "Epoch 6/250\n",
      "176/176 - 0s - loss: 0.3219 - accuracy: 0.8535\n",
      "Epoch 7/250\n",
      "176/176 - 0s - loss: 0.3240 - accuracy: 0.8516\n",
      "Epoch 8/250\n",
      "176/176 - 0s - loss: 0.3233 - accuracy: 0.8500\n",
      "Epoch 9/250\n",
      "176/176 - 0s - loss: 0.3222 - accuracy: 0.8505\n",
      "Epoch 10/250\n",
      "176/176 - 0s - loss: 0.3209 - accuracy: 0.8519\n",
      "Epoch 11/250\n",
      "176/176 - 0s - loss: 0.3225 - accuracy: 0.8484\n",
      "Epoch 12/250\n",
      "176/176 - 0s - loss: 0.3233 - accuracy: 0.8521\n",
      "Epoch 13/250\n",
      "176/176 - 0s - loss: 0.3214 - accuracy: 0.8517\n",
      "Epoch 14/250\n",
      "176/176 - 0s - loss: 0.3218 - accuracy: 0.8528\n",
      "Epoch 15/250\n",
      "176/176 - 0s - loss: 0.3229 - accuracy: 0.8489\n",
      "Epoch 16/250\n",
      "176/176 - 0s - loss: 0.3232 - accuracy: 0.8500\n",
      "Epoch 17/250\n",
      "176/176 - 0s - loss: 0.3189 - accuracy: 0.8542\n",
      "Epoch 18/250\n",
      "176/176 - 0s - loss: 0.3212 - accuracy: 0.8526\n",
      "Epoch 19/250\n",
      "176/176 - 0s - loss: 0.3230 - accuracy: 0.8505\n",
      "Epoch 20/250\n",
      "176/176 - 0s - loss: 0.3197 - accuracy: 0.8498\n",
      "Epoch 21/250\n",
      "176/176 - 0s - loss: 0.3260 - accuracy: 0.8487\n",
      "Epoch 22/250\n",
      "176/176 - 0s - loss: 0.3229 - accuracy: 0.8516\n",
      "Epoch 23/250\n",
      "176/176 - 0s - loss: 0.3228 - accuracy: 0.8485\n",
      "Epoch 24/250\n",
      "176/176 - 0s - loss: 0.3236 - accuracy: 0.8466\n",
      "Epoch 25/250\n",
      "176/176 - 0s - loss: 0.3217 - accuracy: 0.8519\n",
      "Epoch 26/250\n",
      "176/176 - 0s - loss: 0.3192 - accuracy: 0.8512\n",
      "Epoch 27/250\n",
      "176/176 - 0s - loss: 0.3209 - accuracy: 0.8530\n",
      "Epoch 28/250\n",
      "176/176 - 0s - loss: 0.3209 - accuracy: 0.8510\n",
      "Epoch 29/250\n",
      "176/176 - 0s - loss: 0.3190 - accuracy: 0.8532\n",
      "Epoch 30/250\n",
      "176/176 - 0s - loss: 0.3194 - accuracy: 0.8496\n",
      "Epoch 31/250\n",
      "176/176 - 0s - loss: 0.3211 - accuracy: 0.8555\n",
      "Epoch 32/250\n",
      "176/176 - 0s - loss: 0.3192 - accuracy: 0.8517\n",
      "Epoch 33/250\n",
      "176/176 - 0s - loss: 0.3191 - accuracy: 0.8551\n",
      "Epoch 34/250\n",
      "176/176 - 0s - loss: 0.3188 - accuracy: 0.8528\n",
      "Epoch 35/250\n",
      "176/176 - 0s - loss: 0.3217 - accuracy: 0.8524\n",
      "Epoch 36/250\n",
      "176/176 - 0s - loss: 0.3203 - accuracy: 0.8514\n",
      "Epoch 37/250\n",
      "176/176 - 0s - loss: 0.3210 - accuracy: 0.8530\n",
      "Epoch 38/250\n",
      "176/176 - 0s - loss: 0.3200 - accuracy: 0.8523\n",
      "Epoch 39/250\n",
      "176/176 - 0s - loss: 0.3219 - accuracy: 0.8524\n",
      "Epoch 40/250\n",
      "176/176 - 0s - loss: 0.3166 - accuracy: 0.8537\n",
      "Epoch 41/250\n",
      "176/176 - 0s - loss: 0.3203 - accuracy: 0.8514\n",
      "Epoch 42/250\n",
      "176/176 - 0s - loss: 0.3200 - accuracy: 0.8539\n",
      "Epoch 43/250\n",
      "176/176 - 0s - loss: 0.3200 - accuracy: 0.8521\n",
      "Epoch 44/250\n",
      "176/176 - 0s - loss: 0.3209 - accuracy: 0.8542\n",
      "Epoch 45/250\n",
      "176/176 - 0s - loss: 0.3193 - accuracy: 0.8532\n",
      "Epoch 46/250\n",
      "176/176 - 0s - loss: 0.3182 - accuracy: 0.8544\n",
      "Epoch 47/250\n",
      "176/176 - 0s - loss: 0.3169 - accuracy: 0.8500\n",
      "Epoch 48/250\n",
      "176/176 - 0s - loss: 0.3179 - accuracy: 0.8519\n",
      "Epoch 49/250\n",
      "176/176 - 0s - loss: 0.3169 - accuracy: 0.8496\n",
      "Epoch 50/250\n",
      "176/176 - 0s - loss: 0.3178 - accuracy: 0.8532\n",
      "Epoch 51/250\n",
      "176/176 - 0s - loss: 0.3193 - accuracy: 0.8501\n",
      "Epoch 52/250\n",
      "176/176 - 0s - loss: 0.3172 - accuracy: 0.8517\n",
      "Epoch 53/250\n",
      "176/176 - 0s - loss: 0.3214 - accuracy: 0.8510\n",
      "Epoch 54/250\n",
      "176/176 - 0s - loss: 0.3164 - accuracy: 0.8537\n",
      "Epoch 55/250\n",
      "176/176 - 0s - loss: 0.3187 - accuracy: 0.8524\n",
      "Epoch 56/250\n",
      "176/176 - 0s - loss: 0.3165 - accuracy: 0.8564\n",
      "Epoch 57/250\n",
      "176/176 - 0s - loss: 0.3177 - accuracy: 0.8494\n",
      "Epoch 58/250\n",
      "176/176 - 0s - loss: 0.3167 - accuracy: 0.8532\n",
      "Epoch 59/250\n",
      "176/176 - 0s - loss: 0.3183 - accuracy: 0.8578\n",
      "Epoch 60/250\n",
      "176/176 - 0s - loss: 0.3158 - accuracy: 0.8556\n",
      "Epoch 61/250\n",
      "176/176 - 0s - loss: 0.3151 - accuracy: 0.8537\n",
      "Epoch 62/250\n",
      "176/176 - 0s - loss: 0.3160 - accuracy: 0.8512\n",
      "Epoch 63/250\n",
      "176/176 - 0s - loss: 0.3164 - accuracy: 0.8532\n",
      "Epoch 64/250\n",
      "176/176 - 0s - loss: 0.3181 - accuracy: 0.8548\n",
      "Epoch 65/250\n",
      "176/176 - 0s - loss: 0.3167 - accuracy: 0.8558\n",
      "Epoch 66/250\n",
      "176/176 - 0s - loss: 0.3188 - accuracy: 0.8517\n",
      "Epoch 67/250\n",
      "176/176 - 0s - loss: 0.3151 - accuracy: 0.8567\n",
      "Epoch 68/250\n",
      "176/176 - 0s - loss: 0.3166 - accuracy: 0.8532\n",
      "Epoch 69/250\n",
      "176/176 - 0s - loss: 0.3158 - accuracy: 0.8507\n",
      "Epoch 70/250\n",
      "176/176 - 0s - loss: 0.3157 - accuracy: 0.8540\n",
      "Epoch 71/250\n",
      "176/176 - 0s - loss: 0.3148 - accuracy: 0.8494\n",
      "Epoch 72/250\n",
      "176/176 - 0s - loss: 0.3162 - accuracy: 0.8565\n",
      "Epoch 73/250\n",
      "176/176 - 0s - loss: 0.3184 - accuracy: 0.8526\n",
      "Epoch 74/250\n",
      "176/176 - 0s - loss: 0.3148 - accuracy: 0.8548\n",
      "Epoch 75/250\n",
      "176/176 - 0s - loss: 0.3211 - accuracy: 0.8564\n",
      "Epoch 76/250\n",
      "176/176 - 0s - loss: 0.3184 - accuracy: 0.8517\n",
      "Epoch 77/250\n",
      "176/176 - 0s - loss: 0.3157 - accuracy: 0.8523\n",
      "Epoch 78/250\n",
      "176/176 - 0s - loss: 0.3140 - accuracy: 0.8533\n",
      "Epoch 79/250\n",
      "176/176 - 0s - loss: 0.3162 - accuracy: 0.8530\n",
      "Epoch 80/250\n",
      "176/176 - 0s - loss: 0.3133 - accuracy: 0.8540\n",
      "Epoch 81/250\n",
      "176/176 - 0s - loss: 0.3134 - accuracy: 0.8530\n",
      "Epoch 82/250\n",
      "176/176 - 0s - loss: 0.3208 - accuracy: 0.8517\n",
      "Epoch 83/250\n",
      "176/176 - 0s - loss: 0.3149 - accuracy: 0.8576\n",
      "Epoch 84/250\n",
      "176/176 - 0s - loss: 0.3156 - accuracy: 0.8507\n",
      "Epoch 85/250\n",
      "176/176 - 0s - loss: 0.3147 - accuracy: 0.8507\n",
      "Epoch 86/250\n",
      "176/176 - 0s - loss: 0.3155 - accuracy: 0.8533\n",
      "Epoch 87/250\n",
      "176/176 - 0s - loss: 0.3185 - accuracy: 0.8508\n",
      "Epoch 88/250\n",
      "176/176 - 0s - loss: 0.3151 - accuracy: 0.8510\n",
      "Epoch 89/250\n",
      "176/176 - 0s - loss: 0.3158 - accuracy: 0.8549\n",
      "Epoch 90/250\n",
      "176/176 - 0s - loss: 0.3181 - accuracy: 0.8519\n",
      "Epoch 91/250\n",
      "176/176 - 0s - loss: 0.3138 - accuracy: 0.8549\n",
      "Epoch 92/250\n",
      "176/176 - 0s - loss: 0.3137 - accuracy: 0.8544\n",
      "Epoch 93/250\n",
      "176/176 - 0s - loss: 0.3155 - accuracy: 0.8544\n",
      "Epoch 94/250\n",
      "176/176 - 0s - loss: 0.3175 - accuracy: 0.8510\n",
      "Epoch 95/250\n",
      "176/176 - 0s - loss: 0.3142 - accuracy: 0.8549\n",
      "Epoch 96/250\n",
      "176/176 - 0s - loss: 0.3136 - accuracy: 0.8564\n",
      "Epoch 97/250\n",
      "176/176 - 0s - loss: 0.3145 - accuracy: 0.8548\n",
      "Epoch 98/250\n",
      "176/176 - 0s - loss: 0.3124 - accuracy: 0.8571\n",
      "Epoch 99/250\n",
      "176/176 - 0s - loss: 0.3141 - accuracy: 0.8528\n",
      "Epoch 100/250\n",
      "176/176 - 0s - loss: 0.3124 - accuracy: 0.8564\n",
      "Epoch 101/250\n",
      "176/176 - 0s - loss: 0.3166 - accuracy: 0.8539\n",
      "Epoch 102/250\n",
      "176/176 - 0s - loss: 0.3125 - accuracy: 0.8574\n",
      "Epoch 103/250\n",
      "176/176 - 0s - loss: 0.3106 - accuracy: 0.8572\n",
      "Epoch 104/250\n",
      "176/176 - 0s - loss: 0.3137 - accuracy: 0.8540\n",
      "Epoch 105/250\n",
      "176/176 - 0s - loss: 0.3128 - accuracy: 0.8548\n",
      "Epoch 106/250\n",
      "176/176 - 0s - loss: 0.3135 - accuracy: 0.8564\n",
      "Epoch 107/250\n",
      "176/176 - 0s - loss: 0.3134 - accuracy: 0.8576\n",
      "Epoch 108/250\n",
      "176/176 - 0s - loss: 0.3147 - accuracy: 0.8558\n",
      "Epoch 109/250\n",
      "176/176 - 0s - loss: 0.3102 - accuracy: 0.8590\n",
      "Epoch 110/250\n",
      "176/176 - 0s - loss: 0.3107 - accuracy: 0.8558\n",
      "Epoch 111/250\n",
      "176/176 - 0s - loss: 0.3101 - accuracy: 0.8580\n",
      "Epoch 112/250\n",
      "176/176 - 0s - loss: 0.3127 - accuracy: 0.8564\n",
      "Epoch 113/250\n",
      "176/176 - 0s - loss: 0.3110 - accuracy: 0.8587\n",
      "Epoch 114/250\n",
      "176/176 - 0s - loss: 0.3124 - accuracy: 0.8539\n",
      "Epoch 115/250\n",
      "176/176 - 0s - loss: 0.3125 - accuracy: 0.8581\n",
      "Epoch 116/250\n",
      "176/176 - 0s - loss: 0.3117 - accuracy: 0.8574\n",
      "Epoch 117/250\n",
      "176/176 - 0s - loss: 0.3119 - accuracy: 0.8576\n",
      "Epoch 118/250\n",
      "176/176 - 0s - loss: 0.3116 - accuracy: 0.8565\n",
      "Epoch 119/250\n",
      "176/176 - 0s - loss: 0.3125 - accuracy: 0.8590\n",
      "Epoch 120/250\n",
      "176/176 - 0s - loss: 0.3118 - accuracy: 0.8553\n",
      "Epoch 121/250\n",
      "176/176 - 0s - loss: 0.3130 - accuracy: 0.8546\n",
      "Epoch 122/250\n",
      "176/176 - 0s - loss: 0.3075 - accuracy: 0.8587\n",
      "Epoch 123/250\n",
      "176/176 - 0s - loss: 0.3128 - accuracy: 0.8583\n",
      "Epoch 124/250\n",
      "176/176 - 0s - loss: 0.3137 - accuracy: 0.8523\n",
      "Epoch 125/250\n",
      "176/176 - 0s - loss: 0.3096 - accuracy: 0.8564\n",
      "Epoch 126/250\n",
      "176/176 - 0s - loss: 0.3146 - accuracy: 0.8578\n",
      "Epoch 127/250\n",
      "176/176 - 0s - loss: 0.3097 - accuracy: 0.8603\n",
      "Epoch 128/250\n",
      "176/176 - 0s - loss: 0.3118 - accuracy: 0.8569\n",
      "Epoch 129/250\n",
      "176/176 - 0s - loss: 0.3100 - accuracy: 0.8533\n",
      "Epoch 130/250\n",
      "176/176 - 0s - loss: 0.3113 - accuracy: 0.8558\n",
      "Epoch 131/250\n",
      "176/176 - 0s - loss: 0.3117 - accuracy: 0.8544\n",
      "Epoch 132/250\n",
      "176/176 - 0s - loss: 0.3100 - accuracy: 0.8580\n",
      "Epoch 133/250\n",
      "176/176 - 0s - loss: 0.3090 - accuracy: 0.8574\n",
      "Epoch 134/250\n",
      "176/176 - 0s - loss: 0.3114 - accuracy: 0.8548\n",
      "Epoch 135/250\n",
      "176/176 - 0s - loss: 0.3105 - accuracy: 0.8574\n",
      "Epoch 136/250\n",
      "176/176 - 0s - loss: 0.3107 - accuracy: 0.8556\n",
      "Epoch 137/250\n"
     ]
    },
    {
     "name": "stdout",
     "output_type": "stream",
     "text": [
      "176/176 - 0s - loss: 0.3099 - accuracy: 0.8580\n",
      "Epoch 138/250\n",
      "176/176 - 0s - loss: 0.3140 - accuracy: 0.8519\n",
      "Epoch 139/250\n",
      "176/176 - 0s - loss: 0.3104 - accuracy: 0.8581\n",
      "Epoch 140/250\n",
      "176/176 - 0s - loss: 0.3080 - accuracy: 0.8603\n",
      "Epoch 141/250\n",
      "176/176 - 0s - loss: 0.3092 - accuracy: 0.8555\n",
      "Epoch 142/250\n",
      "176/176 - 0s - loss: 0.3084 - accuracy: 0.8574\n",
      "Epoch 143/250\n",
      "176/176 - 0s - loss: 0.3108 - accuracy: 0.8588\n",
      "Epoch 144/250\n",
      "176/176 - 0s - loss: 0.3092 - accuracy: 0.8580\n",
      "Epoch 145/250\n",
      "176/176 - 0s - loss: 0.3066 - accuracy: 0.8594\n",
      "Epoch 146/250\n",
      "176/176 - 0s - loss: 0.3095 - accuracy: 0.8576\n",
      "Epoch 147/250\n",
      "176/176 - 0s - loss: 0.3089 - accuracy: 0.8564\n",
      "Epoch 148/250\n",
      "176/176 - 0s - loss: 0.3084 - accuracy: 0.8560\n",
      "Epoch 149/250\n",
      "176/176 - 0s - loss: 0.3069 - accuracy: 0.8555\n",
      "Epoch 150/250\n",
      "176/176 - 0s - loss: 0.3061 - accuracy: 0.8596\n",
      "Epoch 151/250\n",
      "176/176 - 0s - loss: 0.3088 - accuracy: 0.8569\n",
      "Epoch 152/250\n",
      "176/176 - 0s - loss: 0.3102 - accuracy: 0.8606\n",
      "Epoch 153/250\n",
      "176/176 - 0s - loss: 0.3059 - accuracy: 0.8603\n",
      "Epoch 154/250\n",
      "176/176 - 0s - loss: 0.3079 - accuracy: 0.8587\n",
      "Epoch 155/250\n",
      "176/176 - 0s - loss: 0.3089 - accuracy: 0.8567\n",
      "Epoch 156/250\n",
      "176/176 - 0s - loss: 0.3080 - accuracy: 0.8583\n",
      "Epoch 157/250\n",
      "176/176 - 0s - loss: 0.3077 - accuracy: 0.8613\n",
      "Epoch 158/250\n",
      "176/176 - 0s - loss: 0.3092 - accuracy: 0.8519\n",
      "Epoch 159/250\n",
      "176/176 - 0s - loss: 0.3091 - accuracy: 0.8576\n",
      "Epoch 160/250\n",
      "176/176 - 0s - loss: 0.3076 - accuracy: 0.8588\n",
      "Epoch 161/250\n",
      "176/176 - 0s - loss: 0.3084 - accuracy: 0.8592\n",
      "Epoch 162/250\n",
      "176/176 - 0s - loss: 0.3067 - accuracy: 0.8613\n",
      "Epoch 163/250\n",
      "176/176 - 0s - loss: 0.3061 - accuracy: 0.8604\n",
      "Epoch 164/250\n",
      "176/176 - 0s - loss: 0.3064 - accuracy: 0.8603\n",
      "Epoch 165/250\n",
      "176/176 - 0s - loss: 0.3071 - accuracy: 0.8580\n",
      "Epoch 166/250\n",
      "176/176 - 0s - loss: 0.3074 - accuracy: 0.8594\n",
      "Epoch 167/250\n",
      "176/176 - 0s - loss: 0.3081 - accuracy: 0.8549\n",
      "Epoch 168/250\n",
      "176/176 - 0s - loss: 0.3089 - accuracy: 0.8578\n",
      "Epoch 169/250\n",
      "176/176 - 0s - loss: 0.3063 - accuracy: 0.8615\n",
      "Epoch 170/250\n",
      "176/176 - 0s - loss: 0.3105 - accuracy: 0.8590\n",
      "Epoch 171/250\n",
      "176/176 - 0s - loss: 0.3069 - accuracy: 0.8597\n",
      "Epoch 172/250\n",
      "176/176 - 0s - loss: 0.3057 - accuracy: 0.8597\n",
      "Epoch 173/250\n",
      "176/176 - 0s - loss: 0.3073 - accuracy: 0.8606\n",
      "Epoch 174/250\n",
      "176/176 - 0s - loss: 0.3053 - accuracy: 0.8583\n",
      "Epoch 175/250\n",
      "176/176 - 0s - loss: 0.3074 - accuracy: 0.8615\n",
      "Epoch 176/250\n",
      "176/176 - 0s - loss: 0.3058 - accuracy: 0.8603\n",
      "Epoch 177/250\n",
      "176/176 - 0s - loss: 0.3057 - accuracy: 0.8615\n",
      "Epoch 178/250\n",
      "176/176 - 0s - loss: 0.3077 - accuracy: 0.8583\n",
      "Epoch 179/250\n",
      "176/176 - 0s - loss: 0.3053 - accuracy: 0.8576\n",
      "Epoch 180/250\n",
      "176/176 - 0s - loss: 0.3048 - accuracy: 0.8587\n",
      "Epoch 181/250\n",
      "176/176 - 0s - loss: 0.3068 - accuracy: 0.8601\n",
      "Epoch 182/250\n",
      "176/176 - 0s - loss: 0.3053 - accuracy: 0.8592\n",
      "Epoch 183/250\n",
      "176/176 - 0s - loss: 0.3060 - accuracy: 0.8592\n",
      "Epoch 184/250\n",
      "176/176 - 0s - loss: 0.3045 - accuracy: 0.8565\n",
      "Epoch 185/250\n",
      "176/176 - 0s - loss: 0.3084 - accuracy: 0.8587\n",
      "Epoch 186/250\n",
      "176/176 - 0s - loss: 0.3080 - accuracy: 0.8565\n",
      "Epoch 187/250\n",
      "176/176 - 0s - loss: 0.3059 - accuracy: 0.8588\n",
      "Epoch 188/250\n",
      "176/176 - 0s - loss: 0.3045 - accuracy: 0.8574\n",
      "Epoch 189/250\n",
      "176/176 - 0s - loss: 0.3031 - accuracy: 0.8613\n",
      "Epoch 190/250\n",
      "176/176 - 0s - loss: 0.3067 - accuracy: 0.8594\n",
      "Epoch 191/250\n",
      "176/176 - 0s - loss: 0.3068 - accuracy: 0.8606\n",
      "Epoch 192/250\n",
      "176/176 - 0s - loss: 0.3028 - accuracy: 0.8633\n",
      "Epoch 193/250\n",
      "176/176 - 0s - loss: 0.3060 - accuracy: 0.8603\n",
      "Epoch 194/250\n",
      "176/176 - 0s - loss: 0.3062 - accuracy: 0.8592\n",
      "Epoch 195/250\n",
      "176/176 - 0s - loss: 0.3044 - accuracy: 0.8596\n",
      "Epoch 196/250\n",
      "176/176 - 0s - loss: 0.3064 - accuracy: 0.8556\n",
      "Epoch 197/250\n",
      "176/176 - 0s - loss: 0.3053 - accuracy: 0.8564\n",
      "Epoch 198/250\n",
      "176/176 - 0s - loss: 0.3056 - accuracy: 0.8578\n",
      "Epoch 199/250\n",
      "176/176 - 0s - loss: 0.3041 - accuracy: 0.8604\n",
      "Epoch 200/250\n",
      "176/176 - 0s - loss: 0.3069 - accuracy: 0.8564\n",
      "Epoch 201/250\n",
      "176/176 - 0s - loss: 0.3049 - accuracy: 0.8592\n",
      "Epoch 202/250\n",
      "176/176 - 0s - loss: 0.3034 - accuracy: 0.8596\n",
      "Epoch 203/250\n",
      "176/176 - 0s - loss: 0.3060 - accuracy: 0.8603\n",
      "Epoch 204/250\n",
      "176/176 - 0s - loss: 0.3053 - accuracy: 0.8603\n",
      "Epoch 205/250\n",
      "176/176 - 0s - loss: 0.3033 - accuracy: 0.8606\n",
      "Epoch 206/250\n",
      "176/176 - 0s - loss: 0.3036 - accuracy: 0.8596\n",
      "Epoch 207/250\n",
      "176/176 - 0s - loss: 0.3028 - accuracy: 0.8631\n",
      "Epoch 208/250\n",
      "176/176 - 0s - loss: 0.3029 - accuracy: 0.8594\n",
      "Epoch 209/250\n",
      "176/176 - 0s - loss: 0.3040 - accuracy: 0.8597\n",
      "Epoch 210/250\n",
      "176/176 - 0s - loss: 0.3051 - accuracy: 0.8610\n",
      "Epoch 211/250\n",
      "176/176 - 0s - loss: 0.3031 - accuracy: 0.8615\n",
      "Epoch 212/250\n",
      "176/176 - 0s - loss: 0.3031 - accuracy: 0.8587\n",
      "Epoch 213/250\n",
      "176/176 - 0s - loss: 0.3047 - accuracy: 0.8601\n",
      "Epoch 214/250\n",
      "176/176 - 0s - loss: 0.3041 - accuracy: 0.8603\n",
      "Epoch 215/250\n",
      "176/176 - 0s - loss: 0.3018 - accuracy: 0.8604\n",
      "Epoch 216/250\n",
      "176/176 - 0s - loss: 0.3015 - accuracy: 0.8612\n",
      "Epoch 217/250\n",
      "176/176 - 0s - loss: 0.3040 - accuracy: 0.8571\n",
      "Epoch 218/250\n",
      "176/176 - 0s - loss: 0.2999 - accuracy: 0.8601\n",
      "Epoch 219/250\n",
      "176/176 - 0s - loss: 0.3051 - accuracy: 0.8594\n",
      "Epoch 220/250\n",
      "176/176 - 0s - loss: 0.3038 - accuracy: 0.8610\n",
      "Epoch 221/250\n",
      "176/176 - 0s - loss: 0.3018 - accuracy: 0.8610\n",
      "Epoch 222/250\n",
      "176/176 - 0s - loss: 0.3046 - accuracy: 0.8592\n",
      "Epoch 223/250\n",
      "176/176 - 0s - loss: 0.3017 - accuracy: 0.8635\n",
      "Epoch 224/250\n",
      "176/176 - 0s - loss: 0.3044 - accuracy: 0.8558\n",
      "Epoch 225/250\n",
      "176/176 - 0s - loss: 0.3066 - accuracy: 0.8574\n",
      "Epoch 226/250\n",
      "176/176 - 0s - loss: 0.3004 - accuracy: 0.8638\n",
      "Epoch 227/250\n",
      "176/176 - 0s - loss: 0.3032 - accuracy: 0.8601\n",
      "Epoch 228/250\n",
      "176/176 - 0s - loss: 0.3007 - accuracy: 0.8603\n",
      "Epoch 229/250\n",
      "176/176 - 0s - loss: 0.3028 - accuracy: 0.8597\n",
      "Epoch 230/250\n",
      "176/176 - 0s - loss: 0.3015 - accuracy: 0.8604\n",
      "Epoch 231/250\n",
      "176/176 - 0s - loss: 0.3022 - accuracy: 0.8603\n",
      "Epoch 232/250\n",
      "176/176 - 0s - loss: 0.3011 - accuracy: 0.8603\n",
      "Epoch 233/250\n",
      "176/176 - 0s - loss: 0.3022 - accuracy: 0.8606\n",
      "Epoch 234/250\n",
      "176/176 - 0s - loss: 0.3009 - accuracy: 0.8619\n",
      "Epoch 235/250\n",
      "176/176 - 0s - loss: 0.2996 - accuracy: 0.8622\n",
      "Epoch 236/250\n",
      "176/176 - 0s - loss: 0.3029 - accuracy: 0.8596\n",
      "Epoch 237/250\n",
      "176/176 - 0s - loss: 0.3016 - accuracy: 0.8638\n",
      "Epoch 238/250\n",
      "176/176 - 0s - loss: 0.3048 - accuracy: 0.8612\n",
      "Epoch 239/250\n",
      "176/176 - 0s - loss: 0.3004 - accuracy: 0.8588\n",
      "Epoch 240/250\n",
      "176/176 - 0s - loss: 0.3016 - accuracy: 0.8626\n",
      "Epoch 241/250\n",
      "176/176 - 0s - loss: 0.3007 - accuracy: 0.8619\n",
      "Epoch 242/250\n",
      "176/176 - 0s - loss: 0.3022 - accuracy: 0.8644\n",
      "Epoch 243/250\n",
      "176/176 - 0s - loss: 0.3031 - accuracy: 0.8624\n",
      "Epoch 244/250\n",
      "176/176 - 0s - loss: 0.2996 - accuracy: 0.8626\n",
      "Epoch 245/250\n",
      "176/176 - 0s - loss: 0.3049 - accuracy: 0.8592\n",
      "Epoch 246/250\n",
      "176/176 - 0s - loss: 0.2981 - accuracy: 0.8672\n",
      "Epoch 247/250\n",
      "176/176 - 0s - loss: 0.2997 - accuracy: 0.8610\n",
      "Epoch 248/250\n",
      "176/176 - 0s - loss: 0.3012 - accuracy: 0.8590\n",
      "Epoch 249/250\n",
      "176/176 - 0s - loss: 0.3020 - accuracy: 0.8587\n",
      "Epoch 250/250\n",
      "176/176 - 0s - loss: 0.3018 - accuracy: 0.8608\n"
     ]
    },
    {
     "data": {
      "text/plain": [
       "<keras.callbacks.History at 0x7f0e0c05a820>"
      ]
     },
     "execution_count": 84,
     "metadata": {},
     "output_type": "execute_result"
    }
   ],
   "source": [
    "model.fit(x_train,y_train,epochs=250,verbose=2)"
   ]
  },
  {
   "cell_type": "code",
   "execution_count": 138,
   "metadata": {},
   "outputs": [
    {
     "name": "stdout",
     "output_type": "stream",
     "text": [
      "44/44 [==============================] - 0s 699us/step - loss: 0.5661 - accuracy: 0.7690\n"
     ]
    },
    {
     "data": {
      "text/plain": [
       "[0.5661266446113586, 0.7690120935440063]"
      ]
     },
     "execution_count": 138,
     "metadata": {},
     "output_type": "execute_result"
    }
   ],
   "source": [
    "model.evaluate(x_test,y_test)"
   ]
  },
  {
   "cell_type": "code",
   "execution_count": 139,
   "metadata": {},
   "outputs": [],
   "source": [
    "#Storing the predictions in a  list\n",
    "\n",
    "y_preditct = model.predict(x_test)\n",
    "y_predict2=np.round(y_preditct)\n",
    "y_predict3= y_predict2.tolist()"
   ]
  },
  {
   "cell_type": "code",
   "execution_count": 140,
   "metadata": {},
   "outputs": [
    {
     "data": {
      "text/plain": [
       "[[1.0], [0.0], [0.0], [0.0], [0.0], [0.0], [0.0], [1.0], [1.0], [0.0]]"
      ]
     },
     "execution_count": 140,
     "metadata": {},
     "output_type": "execute_result"
    }
   ],
   "source": [
    "y_predict3[:10]"
   ]
  },
  {
   "cell_type": "code",
   "execution_count": 141,
   "metadata": {},
   "outputs": [
    {
     "name": "stdout",
     "output_type": "stream",
     "text": [
      "First 10 values \n",
      " 3536    0\n",
      "5804    0\n",
      "3295    0\n",
      "3541    0\n",
      "490     0\n",
      "4804    0\n",
      "1604    0\n",
      "6516    1\n",
      "3681    1\n",
      "2826    0\n",
      "Name: Churn, dtype: int64\n",
      "First 10 Predicted values \n",
      " [[1.0], [0.0], [0.0], [0.0], [0.0], [0.0], [0.0], [1.0], [1.0], [0.0]]\n"
     ]
    }
   ],
   "source": [
    "print(f\"First 10 values \\n\",y_test[:10])\n",
    "print(f\"First 10 Predicted values \\n\",y_predict3[:10])"
   ]
  },
  {
   "cell_type": "code",
   "execution_count": 142,
   "metadata": {},
   "outputs": [
    {
     "data": {
      "text/plain": [
       "dtype('int64')"
      ]
     },
     "execution_count": 142,
     "metadata": {},
     "output_type": "execute_result"
    }
   ],
   "source": [
    "y_test.dtype"
   ]
  },
  {
   "cell_type": "code",
   "execution_count": 143,
   "metadata": {},
   "outputs": [],
   "source": [
    "#classification report\n"
   ]
  },
  {
   "cell_type": "code",
   "execution_count": 145,
   "metadata": {},
   "outputs": [
    {
     "name": "stdout",
     "output_type": "stream",
     "text": [
      "              precision    recall  f1-score   support\n",
      "\n",
      "           0       0.83      0.86      0.85      1033\n",
      "           1       0.57      0.51      0.54       374\n",
      "\n",
      "    accuracy                           0.77      1407\n",
      "   macro avg       0.70      0.69      0.69      1407\n",
      "weighted avg       0.76      0.77      0.76      1407\n",
      "\n"
     ]
    }
   ],
   "source": [
    "from sklearn.metrics import confusion_matrix,classification_report\n",
    "\n",
    "print(classification_report(y_test,y_predict3))"
   ]
  },
  {
   "cell_type": "code",
   "execution_count": 147,
   "metadata": {},
   "outputs": [
    {
     "data": {
      "text/plain": [
       "Text(69.0, 0.5, 'Actual')"
      ]
     },
     "execution_count": 147,
     "metadata": {},
     "output_type": "execute_result"
    },
    {
     "data": {
      "image/png": "[encoded data removed]",
      "text/plain": [
       "<Figure size 720x504 with 2 Axes>"
      ]
     },
     "metadata": {
      "needs_background": "light"
     },
     "output_type": "display_data"
    }
   ],
   "source": [
    "import seaborn as sns \n",
    "cm= tf.math.confusion_matrix(labels=y_test,predictions=y_predict3)\n",
    "\n",
    "plt.figure(figsize=(10,7))\n",
    "sns.heatmap(cm,annot=True,fmt='d')\n",
    "plt.xlabel('Predicted')\n",
    "plt.ylabel('Actual')"
   ]
  },
  {
   "cell_type": "code",
   "execution_count": 154,
   "metadata": {},
   "outputs": [
    {
     "data": {
      "text/plain": [
       "0.769"
      ]
     },
     "execution_count": 154,
     "metadata": {},
     "output_type": "execute_result"
    }
   ],
   "source": [
    "Accuracy = (891+191) / (891+191+142+183)\n",
    "round(Accuracy,3)"
   ]
  },
  {
   "cell_type": "code",
   "execution_count": 160,
   "metadata": {},
   "outputs": [
    {
     "data": {
      "text/plain": [
       "0.574"
      ]
     },
     "execution_count": 160,
     "metadata": {},
     "output_type": "execute_result"
    }
   ],
   "source": [
    "# Precision for 1 \n",
    "# how many of the leaving customers model got right, out of all leaving ones\n",
    "\n",
    "Precision1 = 191/ (191+142)\n",
    "\n",
    "round(Precision1,3)\n"
   ]
  },
  {
   "cell_type": "code",
   "execution_count": 161,
   "metadata": {},
   "outputs": [
    {
     "data": {
      "text/plain": [
       "0.83"
      ]
     },
     "execution_count": 161,
     "metadata": {},
     "output_type": "execute_result"
    }
   ],
   "source": [
    "#Precison for 0\n",
    "\n",
    "Precision0 = 891/ (891+183)\n",
    "\n",
    "round(Precision0,3)"
   ]
  },
  {
   "cell_type": "code",
   "execution_count": 163,
   "metadata": {},
   "outputs": [
    {
     "data": {
      "text/plain": [
       "0.863"
      ]
     },
     "execution_count": 163,
     "metadata": {},
     "output_type": "execute_result"
    }
   ],
   "source": [
    "#Recall for 0\n",
    "#How many we said are not leaving vs how many are actually not leaving\n",
    "\n",
    "Recall0= 891/(891+142)\n",
    "\n",
    "round(Recall0,3)"
   ]
  },
  {
   "cell_type": "code",
   "execution_count": 164,
   "metadata": {},
   "outputs": [
    {
     "data": {
      "text/plain": [
       "0.511"
      ]
     },
     "execution_count": 164,
     "metadata": {},
     "output_type": "execute_result"
    }
   ],
   "source": [
    "#Recall for 1\n",
    "\n",
    "Recall1= 191/(191+183)\n",
    "\n",
    "round(Recall1,3)"
   ]
  },
  {
   "cell_type": "markdown",
   "metadata": {},
   "source": []
  },
  {
   "cell_type": "code",
   "execution_count": null,
   "metadata": {},
   "outputs": [],
   "source": []
  }
 ],
 "metadata": {
  "kernelspec": {
   "display_name": "Python 3",
   "language": "python",
   "name": "python3"
  },
  "language_info": {
   "codemirror_mode": {
    "name": "ipython",
    "version": 3
   },
   "file_extension": ".py",
   "mimetype": "text/x-python",
   "name": "python",
   "nbconvert_exporter": "python",
   "pygments_lexer": "ipython3",
   "version": "3.8.3"
  }
 },
 "nbformat": 4,
 "nbformat_minor": 4
}
